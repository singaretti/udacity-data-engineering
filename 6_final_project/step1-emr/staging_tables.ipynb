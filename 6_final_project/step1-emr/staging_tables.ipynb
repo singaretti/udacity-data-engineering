{
 "cells": [
  {
   "cell_type": "code",
   "execution_count": 53,
   "metadata": {},
   "outputs": [
    {
     "data": {
      "application/vnd.jupyter.widget-view+json": {
       "model_id": "908d7368b1454cfd9938b95a64d7525b",
       "version_major": 2,
       "version_minor": 0
      },
      "text/plain": [
       "VBox()"
      ]
     },
     "metadata": {},
     "output_type": "display_data"
    },
    {
     "data": {
      "application/vnd.jupyter.widget-view+json": {
       "model_id": "",
       "version_major": 2,
       "version_minor": 0
      },
      "text/plain": [
       "FloatProgress(value=0.0, bar_style='info', description='Progress:', layout=Layout(height='25px', width='50%'),…"
      ]
     },
     "metadata": {},
     "output_type": "display_data"
    }
   ],
   "source": [
    "import boto3\n",
    "import os\n",
    "import json\n",
    "import configparser\n",
    "from botocore.exceptions import ClientError\n",
    "import psycopg2\n",
    "from pyspark.sql.functions import concat, col, lit"
   ]
  },
  {
   "cell_type": "raw",
   "metadata": {},
   "source": [
    "Values to be used to connect to s3 and create AWS Redshift"
   ]
  },
  {
   "cell_type": "code",
   "execution_count": 54,
   "metadata": {},
   "outputs": [
    {
     "data": {
      "application/vnd.jupyter.widget-view+json": {
       "model_id": "104a34857de9466788bce00526be1580",
       "version_major": 2,
       "version_minor": 0
      },
      "text/plain": [
       "VBox()"
      ]
     },
     "metadata": {},
     "output_type": "display_data"
    },
    {
     "data": {
      "application/vnd.jupyter.widget-view+json": {
       "model_id": "",
       "version_major": 2,
       "version_minor": 0
      },
      "text/plain": [
       "FloatProgress(value=0.0, bar_style='info', description='Progress:', layout=Layout(height='25px', width='50%'),…"
      ]
     },
     "metadata": {},
     "output_type": "display_data"
    }
   ],
   "source": [
    "AWS_KEY='KEY'\n",
    "AWS_SECRET='SECRET'\n",
    "DWH_CLUSTER_TYPE='multi-node'\n",
    "DWH_NUM_NODES=4\n",
    "DWH_NODE_TYPE='dc2.large'\n",
    "\n",
    "DWH_IAM_ROLE_NAME='RoleForRedshift_FinalProject'\n",
    "DWH_IAM_ROLE_WITH_ARN='arn:aws:iam::410589112277:role/RoleForRedshift_FinalProject'\n",
    "DWH_CLUSTER_IDENTIFIER='covid-19-analysis'\n",
    "DWH_DB='database'\n",
    "DWH_DB_USER='user'\n",
    "DWH_DB_PASSWORD='password'\n",
    "DWH_PORT=5439"
   ]
  },
  {
   "cell_type": "raw",
   "metadata": {},
   "source": [
    "Boto3 allows to interact with AWS services like below, IAM Role, Redshift and S3 buckets."
   ]
  },
  {
   "cell_type": "code",
   "execution_count": 55,
   "metadata": {},
   "outputs": [
    {
     "data": {
      "application/vnd.jupyter.widget-view+json": {
       "model_id": "0d0fb8c5316f4b7a9d05e3579db1c515",
       "version_major": 2,
       "version_minor": 0
      },
      "text/plain": [
       "VBox()"
      ]
     },
     "metadata": {},
     "output_type": "display_data"
    },
    {
     "data": {
      "application/vnd.jupyter.widget-view+json": {
       "model_id": "",
       "version_major": 2,
       "version_minor": 0
      },
      "text/plain": [
       "FloatProgress(value=0.0, bar_style='info', description='Progress:', layout=Layout(height='25px', width='50%'),…"
      ]
     },
     "metadata": {},
     "output_type": "display_data"
    }
   ],
   "source": [
    "iam = boto3.client('iam',aws_access_key_id=AWS_KEY,\n",
    "                     aws_secret_access_key=AWS_SECRET,\n",
    "                     region_name='us-west-2'\n",
    "                  )\n",
    "\n",
    "redshift = boto3.client('redshift',\n",
    "                       region_name=\"us-west-2\",\n",
    "                       aws_access_key_id=AWS_KEY,\n",
    "                       aws_secret_access_key=AWS_SECRET\n",
    "                       )\n",
    "s3 = boto3.resource('s3')"
   ]
  },
  {
   "cell_type": "markdown",
   "metadata": {},
   "source": [
    "### Data about Covid-19 cases to be processed from Germany and Italy\n",
    "#### This s3 bucket should be updated with new cases using API or manual inputs"
   ]
  },
  {
   "cell_type": "markdown",
   "metadata": {},
   "source": [
    "##### source data #1 - Germany data about COVID-19"
   ]
  },
  {
   "cell_type": "code",
   "execution_count": 56,
   "metadata": {},
   "outputs": [
    {
     "data": {
      "application/vnd.jupyter.widget-view+json": {
       "model_id": "ccb266865c2641a8b60c1bd28d9b021e",
       "version_major": 2,
       "version_minor": 0
      },
      "text/plain": [
       "VBox()"
      ]
     },
     "metadata": {},
     "output_type": "display_data"
    },
    {
     "data": {
      "application/vnd.jupyter.widget-view+json": {
       "model_id": "",
       "version_major": 2,
       "version_minor": 0
      },
      "text/plain": [
       "FloatProgress(value=0.0, bar_style='info', description='Progress:', layout=Layout(height='25px', width='50%'),…"
      ]
     },
     "metadata": {},
     "output_type": "display_data"
    }
   ],
   "source": [
    "germany_data = 's3://udacity-de-capstone-project/germany/covid_de.csv'\n",
    "germany = spark.read.format('csv').option(\"header\", \"true\").load(germany_data)\n",
    "germany = germany.select('state',\n",
    "                         'county',\n",
    "                         'age_group',\n",
    "                         'gender',\n",
    "                         concat(col('date'),lit('T00:00:00')).alias('dt'),\n",
    "                         'cases',\n",
    "                         'deaths',\n",
    "                         'recovered')"
   ]
  },
  {
   "cell_type": "code",
   "execution_count": 57,
   "metadata": {},
   "outputs": [
    {
     "data": {
      "application/vnd.jupyter.widget-view+json": {
       "model_id": "58d47f08fdb646e7b21f3602e63ffbab",
       "version_major": 2,
       "version_minor": 0
      },
      "text/plain": [
       "VBox()"
      ]
     },
     "metadata": {},
     "output_type": "display_data"
    },
    {
     "data": {
      "application/vnd.jupyter.widget-view+json": {
       "model_id": "",
       "version_major": 2,
       "version_minor": 0
      },
      "text/plain": [
       "FloatProgress(value=0.0, bar_style='info', description='Progress:', layout=Layout(height='25px', width='50%'),…"
      ]
     },
     "metadata": {},
     "output_type": "display_data"
    },
    {
     "name": "stdout",
     "output_type": "stream",
     "text": [
      "{'ResponseMetadata': {'RequestId': '8V8G8T1H0P4H5W0P', 'HostId': 'LCXuUjIjzcJ/C4uDBekafx29Br2a2i0OAoYlmLiW5ZoYBosBPVgF9Qw/wzytWFk5xsmHZOjbsJY=', 'HTTPStatusCode': 200, 'HTTPHeaders': {'x-amz-id-2': 'LCXuUjIjzcJ/C4uDBekafx29Br2a2i0OAoYlmLiW5ZoYBosBPVgF9Qw/wzytWFk5xsmHZOjbsJY=', 'x-amz-request-id': '8V8G8T1H0P4H5W0P', 'date': 'Sun, 17 Jan 2021 03:40:46 GMT', 'connection': 'close', 'content-type': 'application/xml', 'transfer-encoding': 'chunked', 'server': 'AmazonS3'}, 'RetryAttempts': 0}, 'Deleted': [{'Key': 'germany/staging_table/part-00001-99bf4578-7f00-4a87-8495-f4744efedb08-c000.json'}, {'Key': 'germany/staging_table/_SUCCESS'}, {'Key': 'germany/staging_table/part-00000-99bf4578-7f00-4a87-8495-f4744efedb08-c000.json'}]}"
     ]
    }
   ],
   "source": [
    "s3 = boto3.resource('s3')\n",
    "objects_to_delete = s3.meta.client.list_objects(Bucket=\"udacity-de-capstone-project\", Prefix=\"germany/staging_table/\")\n",
    "\n",
    "delete_keys = {'Objects' : []}\n",
    "delete_keys['Objects'] = [{'Key' : k} for k in [obj['Key'] for obj in objects_to_delete.get('Contents', [])]]\n",
    "\n",
    "s3.meta.client.delete_objects(Bucket=\"udacity-de-capstone-project\", Delete=delete_keys)"
   ]
  },
  {
   "cell_type": "code",
   "execution_count": 58,
   "metadata": {},
   "outputs": [
    {
     "data": {
      "application/vnd.jupyter.widget-view+json": {
       "model_id": "71d14eee28384e5cbdbd1eb8c04a1f0b",
       "version_major": 2,
       "version_minor": 0
      },
      "text/plain": [
       "VBox()"
      ]
     },
     "metadata": {},
     "output_type": "display_data"
    },
    {
     "data": {
      "application/vnd.jupyter.widget-view+json": {
       "model_id": "",
       "version_major": 2,
       "version_minor": 0
      },
      "text/plain": [
       "FloatProgress(value=0.0, bar_style='info', description='Progress:', layout=Layout(height='25px', width='50%'),…"
      ]
     },
     "metadata": {},
     "output_type": "display_data"
    }
   ],
   "source": [
    "germany_staging_table_s3_path = 's3://udacity-de-capstone-project/germany/staging_table'\n",
    "germany.write.format(\"json\").save(germany_staging_table_s3_path)"
   ]
  },
  {
   "cell_type": "markdown",
   "metadata": {},
   "source": [
    "##### source data #2 - Italy Cities/Provinces"
   ]
  },
  {
   "cell_type": "code",
   "execution_count": 59,
   "metadata": {},
   "outputs": [
    {
     "data": {
      "application/vnd.jupyter.widget-view+json": {
       "model_id": "a4f8102d1dab46a0bb239f1dcb185705",
       "version_major": 2,
       "version_minor": 0
      },
      "text/plain": [
       "VBox()"
      ]
     },
     "metadata": {},
     "output_type": "display_data"
    },
    {
     "data": {
      "application/vnd.jupyter.widget-view+json": {
       "model_id": "",
       "version_major": 2,
       "version_minor": 0
      },
      "text/plain": [
       "FloatProgress(value=0.0, bar_style='info', description='Progress:', layout=Layout(height='25px', width='50%'),…"
      ]
     },
     "metadata": {},
     "output_type": "display_data"
    }
   ],
   "source": [
    "italy_province_data = 's3://udacity-de-capstone-project/italy/dati-json/dpc-covid19-ita-province.json'\n",
    "italy_province = spark.read.json(italy_province_data,multiLine=True).withColumnRenamed('data','dt')"
   ]
  },
  {
   "cell_type": "code",
   "execution_count": 60,
   "metadata": {},
   "outputs": [
    {
     "data": {
      "application/vnd.jupyter.widget-view+json": {
       "model_id": "b9937f03d31c4b5fb4c22baeea95bb1b",
       "version_major": 2,
       "version_minor": 0
      },
      "text/plain": [
       "VBox()"
      ]
     },
     "metadata": {},
     "output_type": "display_data"
    },
    {
     "data": {
      "application/vnd.jupyter.widget-view+json": {
       "model_id": "",
       "version_major": 2,
       "version_minor": 0
      },
      "text/plain": [
       "FloatProgress(value=0.0, bar_style='info', description='Progress:', layout=Layout(height='25px', width='50%'),…"
      ]
     },
     "metadata": {},
     "output_type": "display_data"
    },
    {
     "name": "stdout",
     "output_type": "stream",
     "text": [
      "{'ResponseMetadata': {'RequestId': '58CAD07819B82CBD', 'HostId': '4bvz4utN1nwE0tzYdYCVyy4jY5s4zSZ2Nhbad4s0FPkDnlxF9DXz20M7IuWwEv3r0YWP1zXCr4s=', 'HTTPStatusCode': 200, 'HTTPHeaders': {'x-amz-id-2': '4bvz4utN1nwE0tzYdYCVyy4jY5s4zSZ2Nhbad4s0FPkDnlxF9DXz20M7IuWwEv3r0YWP1zXCr4s=', 'x-amz-request-id': '58CAD07819B82CBD', 'date': 'Sun, 17 Jan 2021 03:40:55 GMT', 'connection': 'close', 'content-type': 'application/xml', 'transfer-encoding': 'chunked', 'server': 'AmazonS3'}, 'RetryAttempts': 0}, 'Deleted': [{'Key': 'italy/staging_table/province/part-00000-a95f57d7-def5-43e8-9f61-f539811b9503-c000.json'}, {'Key': 'italy/staging_table/province/_SUCCESS'}]}"
     ]
    }
   ],
   "source": [
    "s3 = boto3.resource('s3')\n",
    "objects_to_delete = s3.meta.client.list_objects(Bucket=\"udacity-de-capstone-project\", Prefix=\"italy/staging_table/province\")\n",
    "\n",
    "delete_keys = {'Objects' : []}\n",
    "delete_keys['Objects'] = [{'Key' : k} for k in [obj['Key'] for obj in objects_to_delete.get('Contents', [])]]\n",
    "\n",
    "s3.meta.client.delete_objects(Bucket=\"udacity-de-capstone-project\", Delete=delete_keys)"
   ]
  },
  {
   "cell_type": "code",
   "execution_count": 61,
   "metadata": {},
   "outputs": [
    {
     "data": {
      "application/vnd.jupyter.widget-view+json": {
       "model_id": "456c8966a99f427b9f2982c1023ffe87",
       "version_major": 2,
       "version_minor": 0
      },
      "text/plain": [
       "VBox()"
      ]
     },
     "metadata": {},
     "output_type": "display_data"
    },
    {
     "data": {
      "application/vnd.jupyter.widget-view+json": {
       "model_id": "",
       "version_major": 2,
       "version_minor": 0
      },
      "text/plain": [
       "FloatProgress(value=0.0, bar_style='info', description='Progress:', layout=Layout(height='25px', width='50%'),…"
      ]
     },
     "metadata": {},
     "output_type": "display_data"
    }
   ],
   "source": [
    "italy_province_staging_table_s3_path = 's3://udacity-de-capstone-project/italy/staging_table/province'\n",
    "italy_province.write.format(\"json\").save(italy_province_staging_table_s3_path)"
   ]
  },
  {
   "cell_type": "markdown",
   "metadata": {},
   "source": [
    "##### source data #3 - Italy Regions and COVID-19 data"
   ]
  },
  {
   "cell_type": "code",
   "execution_count": 62,
   "metadata": {},
   "outputs": [
    {
     "data": {
      "application/vnd.jupyter.widget-view+json": {
       "model_id": "cebe069474344be9aee96c80c4fb8e77",
       "version_major": 2,
       "version_minor": 0
      },
      "text/plain": [
       "VBox()"
      ]
     },
     "metadata": {},
     "output_type": "display_data"
    },
    {
     "data": {
      "application/vnd.jupyter.widget-view+json": {
       "model_id": "",
       "version_major": 2,
       "version_minor": 0
      },
      "text/plain": [
       "FloatProgress(value=0.0, bar_style='info', description='Progress:', layout=Layout(height='25px', width='50%'),…"
      ]
     },
     "metadata": {},
     "output_type": "display_data"
    }
   ],
   "source": [
    "italy_regioni_data = 's3://udacity-de-capstone-project/italy/dati-json/dpc-covid19-ita-regioni.json'\n",
    "italy_regioni = spark.read.json(italy_regioni_data,multiLine=True).withColumnRenamed('data','dt')"
   ]
  },
  {
   "cell_type": "code",
   "execution_count": 63,
   "metadata": {},
   "outputs": [
    {
     "data": {
      "application/vnd.jupyter.widget-view+json": {
       "model_id": "70d9ab5f2805422182ae565cd896ab58",
       "version_major": 2,
       "version_minor": 0
      },
      "text/plain": [
       "VBox()"
      ]
     },
     "metadata": {},
     "output_type": "display_data"
    },
    {
     "data": {
      "application/vnd.jupyter.widget-view+json": {
       "model_id": "",
       "version_major": 2,
       "version_minor": 0
      },
      "text/plain": [
       "FloatProgress(value=0.0, bar_style='info', description='Progress:', layout=Layout(height='25px', width='50%'),…"
      ]
     },
     "metadata": {},
     "output_type": "display_data"
    },
    {
     "name": "stdout",
     "output_type": "stream",
     "text": [
      "{'ResponseMetadata': {'RequestId': 'D7616FF53D5D6ACF', 'HostId': '22Dx1VnKX3VkO3d/MXPLaFqhTDp1MiO1ytd2GdkyWy8CmIOEmwC2/b7diWJhUVNbonWnMOXgLvI=', 'HTTPStatusCode': 200, 'HTTPHeaders': {'x-amz-id-2': '22Dx1VnKX3VkO3d/MXPLaFqhTDp1MiO1ytd2GdkyWy8CmIOEmwC2/b7diWJhUVNbonWnMOXgLvI=', 'x-amz-request-id': 'D7616FF53D5D6ACF', 'date': 'Sun, 17 Jan 2021 03:41:00 GMT', 'connection': 'close', 'content-type': 'application/xml', 'transfer-encoding': 'chunked', 'server': 'AmazonS3'}, 'RetryAttempts': 0}, 'Deleted': [{'Key': 'italy/staging_table/regioni/_SUCCESS'}, {'Key': 'italy/staging_table/regioni/part-00000-8bbfa15a-a50b-42a5-aaf8-e791ec61556f-c000.json'}]}"
     ]
    }
   ],
   "source": [
    "s3 = boto3.resource('s3')\n",
    "objects_to_delete = s3.meta.client.list_objects(Bucket=\"udacity-de-capstone-project\", Prefix=\"italy/staging_table/regioni\")\n",
    "\n",
    "delete_keys = {'Objects' : []}\n",
    "delete_keys['Objects'] = [{'Key' : k} for k in [obj['Key'] for obj in objects_to_delete.get('Contents', [])]]\n",
    "\n",
    "s3.meta.client.delete_objects(Bucket=\"udacity-de-capstone-project\", Delete=delete_keys)"
   ]
  },
  {
   "cell_type": "code",
   "execution_count": 64,
   "metadata": {},
   "outputs": [
    {
     "data": {
      "application/vnd.jupyter.widget-view+json": {
       "model_id": "c1ca9e79c981444b84a0f70d8eb7ad64",
       "version_major": 2,
       "version_minor": 0
      },
      "text/plain": [
       "VBox()"
      ]
     },
     "metadata": {},
     "output_type": "display_data"
    },
    {
     "data": {
      "application/vnd.jupyter.widget-view+json": {
       "model_id": "",
       "version_major": 2,
       "version_minor": 0
      },
      "text/plain": [
       "FloatProgress(value=0.0, bar_style='info', description='Progress:', layout=Layout(height='25px', width='50%'),…"
      ]
     },
     "metadata": {},
     "output_type": "display_data"
    }
   ],
   "source": [
    "italy_regioni_staging_table_s3_path = 's3://udacity-de-capstone-project/italy/staging_table/regioni'\n",
    "italy_regioni.write.format(\"json\").save(italy_regioni_staging_table_s3_path)"
   ]
  },
  {
   "cell_type": "markdown",
   "metadata": {},
   "source": [
    "### Parameters to create AWS Redshift cluster\n",
    "#### If IAM Role you plan to use already exists, just set this name in specific parameter and it's going to be used instead of recreate."
   ]
  },
  {
   "cell_type": "code",
   "execution_count": 65,
   "metadata": {},
   "outputs": [
    {
     "data": {
      "application/vnd.jupyter.widget-view+json": {
       "model_id": "68f35d13fd41487198541d0ad0899a90",
       "version_major": 2,
       "version_minor": 0
      },
      "text/plain": [
       "VBox()"
      ]
     },
     "metadata": {},
     "output_type": "display_data"
    },
    {
     "data": {
      "application/vnd.jupyter.widget-view+json": {
       "model_id": "",
       "version_major": 2,
       "version_minor": 0
      },
      "text/plain": [
       "FloatProgress(value=0.0, bar_style='info', description='Progress:', layout=Layout(height='25px', width='50%'),…"
      ]
     },
     "metadata": {},
     "output_type": "display_data"
    },
    {
     "name": "stdout",
     "output_type": "stream",
     "text": [
      "1.1 Creating a new IAM Role\n",
      "An error occurred (EntityAlreadyExists) when calling the CreateRole operation: Role with name RoleForRedshift_FinalProject already exists.\n",
      "1.2 Attaching Policy\n",
      "1.3 Get the IAM role ARN\n",
      "arn:aws:iam::410589112277:role/RoleForRedshift_FinalProject"
     ]
    }
   ],
   "source": [
    "try:\n",
    "    print(\"1.1 Creating a new IAM Role\") \n",
    "    dwhRole = iam.create_role(\n",
    "        Path='/',\n",
    "        RoleName=DWH_IAM_ROLE_NAME,\n",
    "        Description = \"Allows Redshift clusters to call AWS services on your behalf.\",\n",
    "        AssumeRolePolicyDocument=json.dumps(\n",
    "            {'Statement': [{'Action': 'sts:AssumeRole',\n",
    "               'Effect': 'Allow',\n",
    "               'Principal': {'Service': 'redshift.amazonaws.com'}}],\n",
    "             'Version': '2012-10-17'})\n",
    "    )    \n",
    "except Exception as e:\n",
    "    print(e)\n",
    "    \n",
    "    \n",
    "print(\"1.2 Attaching Policy\")\n",
    "\n",
    "iam.attach_role_policy(RoleName=DWH_IAM_ROLE_NAME,\n",
    "                       PolicyArn=\"arn:aws:iam::aws:policy/AmazonS3ReadOnlyAccess\"\n",
    "                      )['ResponseMetadata']['HTTPStatusCode']\n",
    "\n",
    "print(\"1.3 Get the IAM role ARN\")\n",
    "roleArn = iam.get_role(RoleName=DWH_IAM_ROLE_NAME)['Role']['Arn']\n",
    "\n",
    "print(roleArn)"
   ]
  },
  {
   "cell_type": "raw",
   "metadata": {},
   "source": [
    "Code below is creatin an Redshift cluster"
   ]
  },
  {
   "cell_type": "code",
   "execution_count": 66,
   "metadata": {},
   "outputs": [
    {
     "data": {
      "application/vnd.jupyter.widget-view+json": {
       "model_id": "686c02ea81684b6d8f9e8203458591fc",
       "version_major": 2,
       "version_minor": 0
      },
      "text/plain": [
       "VBox()"
      ]
     },
     "metadata": {},
     "output_type": "display_data"
    },
    {
     "data": {
      "application/vnd.jupyter.widget-view+json": {
       "model_id": "",
       "version_major": 2,
       "version_minor": 0
      },
      "text/plain": [
       "FloatProgress(value=0.0, bar_style='info', description='Progress:', layout=Layout(height='25px', width='50%'),…"
      ]
     },
     "metadata": {},
     "output_type": "display_data"
    },
    {
     "name": "stdout",
     "output_type": "stream",
     "text": [
      "An error occurred (ClusterAlreadyExists) when calling the CreateCluster operation: Cluster already exists"
     ]
    }
   ],
   "source": [
    "try:\n",
    "    response = redshift.create_cluster(        \n",
    "        #HW\n",
    "        ClusterType=DWH_CLUSTER_TYPE,\n",
    "        NodeType=DWH_NODE_TYPE,\n",
    "        NumberOfNodes=int(DWH_NUM_NODES),\n",
    "\n",
    "        #Identifiers & Credentials\n",
    "        DBName=DWH_DB,\n",
    "        ClusterIdentifier=DWH_CLUSTER_IDENTIFIER,\n",
    "        MasterUsername=DWH_DB_USER,\n",
    "        MasterUserPassword=DWH_DB_PASSWORD,\n",
    "        \n",
    "        #Roles (for s3 access)\n",
    "        IamRoles=[roleArn]\n",
    "    )\n",
    "except Exception as e:\n",
    "    print(e)"
   ]
  },
  {
   "cell_type": "raw",
   "metadata": {},
   "source": [
    "A loop to take dw information in AWS"
   ]
  },
  {
   "cell_type": "code",
   "execution_count": 67,
   "metadata": {},
   "outputs": [
    {
     "data": {
      "application/vnd.jupyter.widget-view+json": {
       "model_id": "97b4defeac39403ab20b673b245aaf74",
       "version_major": 2,
       "version_minor": 0
      },
      "text/plain": [
       "VBox()"
      ]
     },
     "metadata": {},
     "output_type": "display_data"
    },
    {
     "data": {
      "application/vnd.jupyter.widget-view+json": {
       "model_id": "",
       "version_major": 2,
       "version_minor": 0
      },
      "text/plain": [
       "FloatProgress(value=0.0, bar_style='info', description='Progress:', layout=Layout(height='25px', width='50%'),…"
      ]
     },
     "metadata": {},
     "output_type": "display_data"
    },
    {
     "name": "stdout",
     "output_type": "stream",
     "text": [
      "ClusterIdentifier-> covid-19-analysis\n",
      "NodeType-> dc2.large\n",
      "ClusterStatus-> available\n",
      "MasterUsername-> singaretti\n",
      "DBName-> database\n",
      "Endpoint-> {'Address': 'covid-19-analysis.coi6foj1tbge.us-west-2.redshift.amazonaws.com', 'Port': 5439}\n",
      "NumberOfNodes-> 4\n",
      "VpcId-> vpc-0e5c237dda5620d8a\n",
      "IamRoles-> [{'IamRoleArn': 'arn:aws:iam::410589112277:role/RoleForRedshift_FinalProject', 'ApplyStatus': 'in-sync'}]"
     ]
    }
   ],
   "source": [
    "all_keys = redshift.describe_clusters(ClusterIdentifier=DWH_CLUSTER_IDENTIFIER)['Clusters'][0]\n",
    "keys_to_show = [\"ClusterIdentifier\", \"NodeType\", \"ClusterStatus\", \"MasterUsername\", \"DBName\", \"Endpoint\", \"NumberOfNodes\", 'VpcId','IamRoles']\n",
    "\n",
    "for key in keys_to_show:\n",
    "  print(f\"{key}-> {all_keys[key]}\")"
   ]
  },
  {
   "cell_type": "raw",
   "metadata": {},
   "source": [
    "PostgreSQL Connector tha AWS Redshift uses"
   ]
  },
  {
   "cell_type": "code",
   "execution_count": 68,
   "metadata": {},
   "outputs": [
    {
     "data": {
      "application/vnd.jupyter.widget-view+json": {
       "model_id": "53753a048e3f4cc0aeb4159b79cd6b67",
       "version_major": 2,
       "version_minor": 0
      },
      "text/plain": [
       "VBox()"
      ]
     },
     "metadata": {},
     "output_type": "display_data"
    },
    {
     "data": {
      "application/vnd.jupyter.widget-view+json": {
       "model_id": "",
       "version_major": 2,
       "version_minor": 0
      },
      "text/plain": [
       "FloatProgress(value=0.0, bar_style='info', description='Progress:', layout=Layout(height='25px', width='50%'),…"
      ]
     },
     "metadata": {},
     "output_type": "display_data"
    }
   ],
   "source": [
    "conn = psycopg2.connect(host='covid-19-analysis.coi6foj1tbge.us-west-2.redshift.amazonaws.com',\n",
    "                        dbname='database',\n",
    "                        user='singaretti',\n",
    "                        password='Singaretti1',\n",
    "                        port='5439')\n",
    "conn.set_session(autocommit=True)\n",
    "cur = conn.cursor()"
   ]
  },
  {
   "cell_type": "raw",
   "metadata": {},
   "source": [
    "SQL statements to allow EMR delete, and create staging tables"
   ]
  },
  {
   "cell_type": "code",
   "execution_count": 69,
   "metadata": {},
   "outputs": [
    {
     "data": {
      "application/vnd.jupyter.widget-view+json": {
       "model_id": "840a6560b4d04cf6888dffd202ef1977",
       "version_major": 2,
       "version_minor": 0
      },
      "text/plain": [
       "VBox()"
      ]
     },
     "metadata": {},
     "output_type": "display_data"
    },
    {
     "data": {
      "application/vnd.jupyter.widget-view+json": {
       "model_id": "",
       "version_major": 2,
       "version_minor": 0
      },
      "text/plain": [
       "FloatProgress(value=0.0, bar_style='info', description='Progress:', layout=Layout(height='25px', width='50%'),…"
      ]
     },
     "metadata": {},
     "output_type": "display_data"
    }
   ],
   "source": [
    "# DROP TABLES\n",
    "staging_italy_province_table_drop = 'DROP TABLE IF EXISTS staging_italy_province;'\n",
    "staging_italy_regioni_table_drop = 'DROP TABLE IF EXISTS staging_italy_regioni;'\n",
    "staging_germany_table_drop = 'DROP TABLE IF EXISTS staging_germany;'\n",
    "\n",
    "# CREATE TABLES\n",
    "staging_italy_province_table_create= (\"\"\"\n",
    "CREATE TABLE IF NOT EXISTS staging_italy_province\n",
    "(\n",
    "codice_provincia INT,\n",
    "codice_regione INT,\n",
    "dt VARCHAR,\n",
    "denominazione_provincia VARCHAR,\n",
    "denominazione_regione VARCHAR,\n",
    "lat FLOAT,\n",
    "long FLOAT,\n",
    "sigla_provincia VARCHAR,\n",
    "stato VARCHAR,\n",
    "totale_casi VARCHAR)\n",
    "\"\"\")\n",
    "\n",
    "staging_italy_regioni_table_create= (\"\"\"\n",
    "CREATE TABLE IF NOT EXISTS staging_italy_regioni\n",
    "(\n",
    "codice_regione INT,\n",
    "dt VARCHAR,\n",
    "deceduti INT,\n",
    "denominazione_regione VARCHAR,\n",
    "dimessi_guariti INT,\n",
    "lat FLOAT,\n",
    "long FLOAT,\n",
    "nuovi_positivi INT,\n",
    "ricoverati_con_sintomi INT,\n",
    "stato VARCHAR,\n",
    "tamponi INT,\n",
    "terapia_intensiva INT,\n",
    "totale_casi INT,\n",
    "totale_ospedalizzati INT,\n",
    "totale_positivi INT,\n",
    "variazione_totale_positivi INT)\n",
    "\"\"\")\n",
    "\n",
    "staging_germany_table_create = (\"\"\"\n",
    "CREATE TABLE IF NOT EXISTS staging_germany\n",
    "(\n",
    "state VARCHAR,\n",
    "county VARCHAR,\n",
    "age_group VARCHAR,\n",
    "gender VARCHAR,\n",
    "dt VARCHAR,\n",
    "cases INT,\n",
    "deaths INT,\n",
    "recovered INT)\n",
    "\"\"\")\n",
    "\n",
    "# COPYING TO STAGING TABLES\n",
    "staging_italy_province_copy = (\"\"\"COPY staging_italy_province FROM '{}' iam_role '{}' FORMAT AS JSON 'auto'\"\"\").format(italy_province_staging_table_s3_path, DWH_IAM_ROLE_WITH_ARN)\n",
    "\n",
    "staging_italy_regioni_copy = (\"\"\"COPY staging_italy_regioni FROM '{}' iam_role '{}' FORMAT AS JSON 'auto'\"\"\").format(italy_regioni_staging_table_s3_path, DWH_IAM_ROLE_WITH_ARN)\n",
    "\n",
    "staging_germany_copy = (\"\"\"COPY staging_germany FROM '{}' iam_role '{}' FORMAT AS JSON 'auto'\"\"\").format(germany_staging_table_s3_path, DWH_IAM_ROLE_WITH_ARN)\n",
    "\n",
    "# QUERY LISTS\n",
    "create_table_queries = [staging_italy_province_table_create, staging_italy_regioni_table_create, staging_germany_table_create]\n",
    "drop_table_queries = [staging_italy_province_table_drop, staging_italy_regioni_table_drop, staging_germany_table_drop]\n",
    "copy_table_queries = [staging_germany_copy, staging_italy_province_copy, staging_italy_regioni_copy]"
   ]
  },
  {
   "cell_type": "raw",
   "metadata": {},
   "source": [
    "Functions to drop, create and load tables in Redshift."
   ]
  },
  {
   "cell_type": "code",
   "execution_count": 70,
   "metadata": {},
   "outputs": [
    {
     "data": {
      "application/vnd.jupyter.widget-view+json": {
       "model_id": "db2ea2cef29e4920bb6fb025513a710a",
       "version_major": 2,
       "version_minor": 0
      },
      "text/plain": [
       "VBox()"
      ]
     },
     "metadata": {},
     "output_type": "display_data"
    },
    {
     "data": {
      "application/vnd.jupyter.widget-view+json": {
       "model_id": "",
       "version_major": 2,
       "version_minor": 0
      },
      "text/plain": [
       "FloatProgress(value=0.0, bar_style='info', description='Progress:', layout=Layout(height='25px', width='50%'),…"
      ]
     },
     "metadata": {},
     "output_type": "display_data"
    }
   ],
   "source": [
    "def drop_tables(cur, conn):\n",
    "    \"\"\"\n",
    "    - drop table if exists in AWS Redshift\n",
    "    \"\"\"\n",
    "    for query in drop_table_queries:\n",
    "        cur.execute(query)\n",
    "        conn.commit()\n",
    "\n",
    "def create_tables(cur, conn):\n",
    "    \"\"\"\n",
    "    - Create table statements for AWS Redshift\n",
    "    \"\"\"\n",
    "    for query in create_table_queries:\n",
    "        cur.execute(query)\n",
    "        conn.commit()\n",
    "        \n",
    "def load_staging_tables(cur, conn):\n",
    "    \"\"\"\n",
    "    - Load files from s3 bucket into staging tables\n",
    "    \"\"\"\n",
    "    for query in copy_table_queries:\n",
    "        cur.execute(query)\n",
    "        conn.commit()"
   ]
  },
  {
   "cell_type": "code",
   "execution_count": 71,
   "metadata": {},
   "outputs": [
    {
     "data": {
      "application/vnd.jupyter.widget-view+json": {
       "model_id": "df662d997bde4e438b2489feb47ce052",
       "version_major": 2,
       "version_minor": 0
      },
      "text/plain": [
       "VBox()"
      ]
     },
     "metadata": {},
     "output_type": "display_data"
    },
    {
     "data": {
      "application/vnd.jupyter.widget-view+json": {
       "model_id": "",
       "version_major": 2,
       "version_minor": 0
      },
      "text/plain": [
       "FloatProgress(value=0.0, bar_style='info', description='Progress:', layout=Layout(height='25px', width='50%'),…"
      ]
     },
     "metadata": {},
     "output_type": "display_data"
    }
   ],
   "source": [
    "drop_tables(cur,conn)"
   ]
  },
  {
   "cell_type": "code",
   "execution_count": 72,
   "metadata": {},
   "outputs": [
    {
     "data": {
      "application/vnd.jupyter.widget-view+json": {
       "model_id": "f6f4c6eee71b4472be7bbbaa76f1926f",
       "version_major": 2,
       "version_minor": 0
      },
      "text/plain": [
       "VBox()"
      ]
     },
     "metadata": {},
     "output_type": "display_data"
    },
    {
     "data": {
      "application/vnd.jupyter.widget-view+json": {
       "model_id": "",
       "version_major": 2,
       "version_minor": 0
      },
      "text/plain": [
       "FloatProgress(value=0.0, bar_style='info', description='Progress:', layout=Layout(height='25px', width='50%'),…"
      ]
     },
     "metadata": {},
     "output_type": "display_data"
    }
   ],
   "source": [
    "create_tables(cur, conn)"
   ]
  },
  {
   "cell_type": "code",
   "execution_count": 73,
   "metadata": {},
   "outputs": [
    {
     "data": {
      "application/vnd.jupyter.widget-view+json": {
       "model_id": "aac304cb3efb4a00a742c94068dd6b13",
       "version_major": 2,
       "version_minor": 0
      },
      "text/plain": [
       "VBox()"
      ]
     },
     "metadata": {},
     "output_type": "display_data"
    },
    {
     "data": {
      "application/vnd.jupyter.widget-view+json": {
       "model_id": "",
       "version_major": 2,
       "version_minor": 0
      },
      "text/plain": [
       "FloatProgress(value=0.0, bar_style='info', description='Progress:', layout=Layout(height='25px', width='50%'),…"
      ]
     },
     "metadata": {},
     "output_type": "display_data"
    }
   ],
   "source": [
    "load_staging_tables(cur, conn)"
   ]
  }
 ],
 "metadata": {
  "kernelspec": {
   "display_name": "PySpark",
   "language": "",
   "name": "pysparkkernel"
  },
  "language_info": {
   "codemirror_mode": {
    "name": "python",
    "version": 2
   },
   "mimetype": "text/x-python",
   "name": "pyspark",
   "pygments_lexer": "python2"
  }
 },
 "nbformat": 4,
 "nbformat_minor": 4
}
