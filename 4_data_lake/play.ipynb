{
 "cells": [
  {
   "cell_type": "code",
   "execution_count": 3,
   "metadata": {
    "editable": true
   },
   "outputs": [],
   "source": [
    "from etl import *"
   ]
  },
  {
   "cell_type": "code",
   "execution_count": 4,
   "metadata": {
    "editable": true
   },
   "outputs": [],
   "source": [
    "sk = create_spark_session()\n",
    "input_song_data = 's3a://singaretti/song_data'\n",
    "input_log_data = 's3a://singaretti/log_data'\n",
    "output_data = 's3a://singaretti/output'"
   ]
  },
  {
   "cell_type": "code",
   "execution_count": 3,
   "metadata": {
    "editable": true
   },
   "outputs": [],
   "source": [
    "df_song_data,songs_table, artists_table = process_song_data(sk, input_song_data, output_data)"
   ]
  },
  {
   "cell_type": "code",
   "execution_count": 4,
   "metadata": {
    "editable": true
   },
   "outputs": [],
   "source": [
    "df_log_data, users_table, time_table, song_df, songplays_table = process_log_data(sk, input_log_data, output_data)"
   ]
  },
  {
   "cell_type": "code",
   "execution_count": 7,
   "metadata": {
    "editable": true
   },
   "outputs": [
    {
     "name": "stdout",
     "output_type": "stream",
     "text": [
      "+------------------+--------------------+--------------------+---------------+----------------+\n",
      "|         artist_id|         artist_name|     artist_location|artist_latitude|artist_longitude|\n",
      "+------------------+--------------------+--------------------+---------------+----------------+\n",
      "|ARNF6401187FB57032|   Sophie B. Hawkins|New York, NY [Man...|       40.79086|       -73.96644|\n",
      "|AROUOZZ1187B9ABE51|         Willie Bobo|New York, NY [Spa...|       40.79195|       -73.94512|\n",
      "|AREBBGV1187FB523D2|Mike Jones (Featu...|         Houston, TX|           null|            null|\n",
      "|ARD842G1187B997376|          Blue Rodeo|Toronto, Ontario,...|       43.64856|       -79.38533|\n",
      "|ARDR4AC1187FB371A1|Montserrat Caball...|                    |           null|            null|\n",
      "|ARPFHN61187FB575F6|         Lupe Fiasco|         Chicago, IL|       41.88415|       -87.63241|\n",
      "|AR9AWNF1187B9AB0B4|Kenny G featuring...|Seattle, Washingt...|           null|            null|\n",
      "|ARIG6O41187B988BDD|     Richard Souther|       United States|       37.16793|       -95.84502|\n",
      "|AR10USD1187B99F3F1|Tweeterfriendly M...|Burlington, Ontar...|           null|            null|\n",
      "|AR3JMC51187B9AE49D|     Backstreet Boys|         Orlando, FL|       28.53823|       -81.37739|\n",
      "|ARLTWXK1187FB5A3F8|         King Curtis|      Fort Worth, TX|       32.74863|       -97.32925|\n",
      "|ARBGXIG122988F409D|          Steel Rain|     California - SF|       37.77916|      -122.42005|\n",
      "|ARAJPHH1187FB5566A|     The Shangri-Las|          Queens, NY|        40.7038|       -73.83168|\n",
      "|ARMJAGH1187FB546F3|        The Box Tops|         Memphis, TN|       35.14968|       -90.04892|\n",
      "|ARQGYP71187FB44566|        Jimmy Wakely|         Mineola, AR|       34.31109|       -94.02978|\n",
      "|AR47JEX1187B995D81|        SUE THOMPSON|          Nevada, MO|       37.83721|       -94.35868|\n",
      "|ARQ9BO41187FB5CF1F|          John Davis|        Pennsylvania|       40.99471|       -77.60454|\n",
      "|ARGCY1Y1187B9A4FA5|            Gloriana|      Nashville, TN.|       36.16778|       -86.77836|\n",
      "|AR36F9J1187FB406F1|      Bombay Rockers|             Denmark|       56.27609|         9.51695|\n",
      "|ARB29H41187B98F0EF|       Terry Callier|             Chicago|       41.88415|       -87.63241|\n",
      "+------------------+--------------------+--------------------+---------------+----------------+\n",
      "only showing top 20 rows\n",
      "\n"
     ]
    }
   ],
   "source": [
    "df_artists = sk.read.parquet(f\"{output_data}/artists/*\")\n",
    "df_artists.show()"
   ]
  },
  {
   "cell_type": "code",
   "execution_count": 10,
   "metadata": {
    "editable": true
   },
   "outputs": [
    {
     "name": "stdout",
     "output_type": "stream",
     "text": [
      "+-------------+--------------------+-------+-----+------------------+------------------+----------+--------------------+--------------------+\n",
      "|  songplay_id|          start_time|user_id|level|           song_id|         artist_id|session_id|            location|          user_agent|\n",
      "+-------------+--------------------+-------+-----+------------------+------------------+----------+--------------------+--------------------+\n",
      "| 188978561024|2018-11-21 21:56:...|     15| paid|SOZCTXZ12AB0182364|AR5KOSW1187FB35FF4|       818|Chicago-Napervill...|\"Mozilla/5.0 (X11...|\n",
      "|1056561954816|2018-11-14 05:06:...|     10| free|SOGDBUF12A8C140FAA|AR558FS1187FB45658|       484|Washington-Arling...|\"Mozilla/5.0 (Mac...|\n",
      "| 944892805120|2018-11-27 22:35:...|     80| paid|SOGDBUF12A8C140FAA|AR558FS1187FB45658|       992|Portland-South Po...|\"Mozilla/5.0 (Mac...|\n",
      "| 584115552256|2018-11-19 09:14:...|     24| paid|SOGDBUF12A8C140FAA|AR558FS1187FB45658|       672|Lake Havasu City-...|\"Mozilla/5.0 (Win...|\n",
      "+-------------+--------------------+-------+-----+------------------+------------------+----------+--------------------+--------------------+\n",
      "\n"
     ]
    }
   ],
   "source": [
    "df_songplays = sk.read.parquet(f\"{output_data}/songplays/*/*/*\")\n",
    "df_songplays.show()"
   ]
  },
  {
   "cell_type": "code",
   "execution_count": 11,
   "metadata": {
    "editable": true
   },
   "outputs": [
    {
     "name": "stdout",
     "output_type": "stream",
     "text": [
      "+------------------+--------------------+---------+\n",
      "|           song_id|               title| duration|\n",
      "+------------------+--------------------+---------+\n",
      "|SOAOIBZ12AB01815BE|I Hold Your Hand ...| 43.36281|\n",
      "|SONYPOM12A8C13B2D7|I Think My Wife I...|186.48771|\n",
      "|SODREIN12A58A7F2E5|A Whiter Shade Of...|326.00771|\n",
      "|SOYMRWW12A6D4FAB14|The Moon And I (O...| 267.7024|\n",
      "|SOWQTQZ12A58A7B63E|Streets On Fire (...|279.97995|\n",
      "|SOUDSGM12AC9618304|Insatiable (Instr...|266.39628|\n",
      "|SOPEGZN12AB0181B3D|Get Your Head Stu...| 45.66159|\n",
      "|SOBAYLL12A8C138AF9|Sono andati? Fing...|511.16363|\n",
      "|SOOLYAZ12A6701F4A6|Laws Patrolling (...|173.66159|\n",
      "|SOBBUGU12A8C13E95D|Setting Fire to S...|207.77751|\n",
      "|SOBLGCN12AB0183212|James (Hold The L...|124.86485|\n",
      "|SOFFKZS12AB017F194|A Higher Place (A...|236.17261|\n",
      "|SOBKWDJ12A8C13B2F3|Wild Rose (Back 2...|230.71302|\n",
      "|SOBBXLX12A58A79DDA|Erica (2005 Digit...|138.63138|\n",
      "|SONWXQJ12A8C134D94|The Ballad Of Sle...|  305.162|\n",
      "|SOTCKKY12AB018A141|Sonnerie lalaleul...| 29.54404|\n",
      "|SOGNCJP12A58A80271|Do You Finally Ne...|342.56934|\n",
      "|SOFNOQK12AB01840FC|Kutt Free (DJ Vol...|407.37914|\n",
      "|SOWTBJW12AC468AC6E|Broken-Down Merry...|151.84934|\n",
      "|SOGXHEG12AB018653E|It Makes No Diffe...|133.32853|\n",
      "+------------------+--------------------+---------+\n",
      "only showing top 20 rows\n",
      "\n"
     ]
    }
   ],
   "source": [
    "df_songs = sk.read.parquet(f\"{output_data}/songs/*/*/*\")\n",
    "df_songs.show()"
   ]
  },
  {
   "cell_type": "code",
   "execution_count": 12,
   "metadata": {
    "editable": true
   },
   "outputs": [
    {
     "name": "stdout",
     "output_type": "stream",
     "text": [
      "+--------------------+----+---+----+\n",
      "|          start_time|hour|day|week|\n",
      "+--------------------+----+---+----+\n",
      "|2018-11-19 06:54:...|   6| 19|  47|\n",
      "|2018-11-26 13:39:...|  13| 26|  48|\n",
      "|2018-11-26 08:30:...|   8| 26|  48|\n",
      "|2018-11-30 04:24:...|   4| 30|  48|\n",
      "|2018-11-22 01:55:...|   1| 22|  47|\n",
      "|2018-11-24 06:27:...|   6| 24|  47|\n",
      "|2018-11-26 11:04:...|  11| 26|  48|\n",
      "|2018-11-28 23:32:...|  23| 28|  48|\n",
      "|2018-11-30 18:10:...|  18| 30|  48|\n",
      "|2018-11-12 16:54:...|  16| 12|  46|\n",
      "|2018-11-13 15:54:...|  15| 13|  46|\n",
      "|2018-11-22 22:11:...|  22| 22|  47|\n",
      "|2018-11-21 18:49:...|  18| 21|  47|\n",
      "|2018-11-15 19:35:...|  19| 15|  46|\n",
      "|2018-11-27 22:07:...|  22| 27|  48|\n",
      "|2018-11-24 06:56:...|   6| 24|  47|\n",
      "|2018-11-24 13:34:...|  13| 24|  47|\n",
      "|2018-11-21 23:57:...|  23| 21|  47|\n",
      "|2018-11-09 01:51:...|   1|  9|  45|\n",
      "|2018-11-09 19:05:...|  19|  9|  45|\n",
      "+--------------------+----+---+----+\n",
      "only showing top 20 rows\n",
      "\n"
     ]
    }
   ],
   "source": [
    "df_timetable = sk.read.parquet(f\"{output_data}/time_table/*/*/*\")\n",
    "df_timetable.show()"
   ]
  },
  {
   "cell_type": "code",
   "execution_count": 13,
   "metadata": {
    "editable": true
   },
   "outputs": [
    {
     "name": "stdout",
     "output_type": "stream",
     "text": [
      "+------+----------+---------+------+-----+\n",
      "|userId| firstName| lastName|gender|level|\n",
      "+------+----------+---------+------+-----+\n",
      "|    88|  Mohammad|Rodriguez|     M| paid|\n",
      "|    88|  Mohammad|Rodriguez|     M| free|\n",
      "|    68|    Jordan|Rodriguez|     F| free|\n",
      "|    29|Jacqueline|    Lynch|     F| free|\n",
      "|    11| Christian|   Porter|     F| free|\n",
      "|    53|   Celeste| Williams|     F| free|\n",
      "|    69|  Anabelle|  Simpson|     F| free|\n",
      "|    75|    Joseph|Gutierrez|     M| free|\n",
      "|    40|    Tucker| Garrison|     M| free|\n",
      "|     2|   Jizelle| Benjamin|     F| free|\n",
      "|    14|  Theodore|   Harris|     M| free|\n",
      "|    52|  Theodore|    Smith|     M| free|\n",
      "|    56|    Cienna|  Freeman|     F| free|\n",
      "|    12|    Austin|  Rosales|     M| free|\n",
      "|    19|   Zachary|   Thomas|     M| free|\n",
      "|    23|    Morris|  Gilmore|     M| free|\n",
      "|    55|    Martin|  Johnson|     M| free|\n",
      "|    66|     Kevin| Arellano|     M| free|\n",
      "|    64|    Hannah|  Calhoun|     F| free|\n",
      "|   100|     Adler|  Barrera|     M| free|\n",
      "+------+----------+---------+------+-----+\n",
      "only showing top 20 rows\n",
      "\n"
     ]
    }
   ],
   "source": [
    "df_users = sk.read.parquet(f\"{output_data}/users/*\")\n",
    "df_users.show()"
   ]
  }
 ],
 "metadata": {
  "kernelspec": {
   "display_name": "Python 3",
   "language": "python",
   "name": "python3"
  },
  "language_info": {
   "codemirror_mode": {
    "name": "ipython",
    "version": 3
   },
   "file_extension": ".py",
   "mimetype": "text/x-python",
   "name": "python",
   "nbconvert_exporter": "python",
   "pygments_lexer": "ipython3",
   "version": "3.6.3"
  }
 },
 "nbformat": 4,
 "nbformat_minor": 4
}
