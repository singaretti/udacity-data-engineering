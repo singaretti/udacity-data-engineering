{
 "cells": [
  {
   "cell_type": "markdown",
   "metadata": {
    "editable": true
   },
   "source": [
    "# ETL Processes\n",
    "Use this notebook to develop the ETL process for each of your tables before completing the `etl.py` file to load the whole datasets."
   ]
  },
  {
   "cell_type": "code",
   "execution_count": 1,
   "metadata": {
    "editable": true
   },
   "outputs": [],
   "source": [
    "import os\n",
    "import glob\n",
    "import psycopg2\n",
    "import pandas as pd\n",
    "from sql_queries import *"
   ]
  },
  {
   "cell_type": "code",
   "execution_count": 2,
   "metadata": {
    "editable": true
   },
   "outputs": [],
   "source": [
    "conn = psycopg2.connect(\"host=127.0.0.1 dbname=sparkifydb user=student password=student\")\n",
    "cur = conn.cursor()"
   ]
  },
  {
   "cell_type": "code",
   "execution_count": 3,
   "metadata": {
    "editable": true
   },
   "outputs": [],
   "source": [
    "def get_files(filepath):\n",
    "    all_files = []\n",
    "    for root, dirs, files in os.walk(filepath):\n",
    "        files = glob.glob(os.path.join(root,'*.json'))\n",
    "        for f in files :\n",
    "            all_files.append(os.path.abspath(f))\n",
    "    \n",
    "    return all_files"
   ]
  },
  {
   "cell_type": "markdown",
   "metadata": {
    "editable": true
   },
   "source": [
    "# Process `song_data`\n",
    "In this first part, you'll perform ETL on the first dataset, `song_data`, to create the `songs` and `artists` dimensional tables.\n",
    "\n",
    "Let's perform ETL on a single song file and load a single record into each table to start.\n",
    "- Use the `get_files` function provided above to get a list of all song JSON files in `data/song_data`\n",
    "- Select the first song in this list\n",
    "- Read the song file and view the data"
   ]
  },
  {
   "cell_type": "code",
   "execution_count": 4,
   "metadata": {
    "editable": true
   },
   "outputs": [],
   "source": [
    "song_files = get_files('data/song_data')"
   ]
  },
  {
   "cell_type": "code",
   "execution_count": 5,
   "metadata": {
    "editable": true
   },
   "outputs": [],
   "source": [
    "filepath = '/home/workspace/data/song_data/A/A/A/TRAAAAW128F429D538.json'"
   ]
  },
  {
   "cell_type": "code",
   "execution_count": 6,
   "metadata": {
    "editable": true
   },
   "outputs": [
    {
     "data": {
      "text/html": [
       "<div>\n",
       "<style scoped>\n",
       "    .dataframe tbody tr th:only-of-type {\n",
       "        vertical-align: middle;\n",
       "    }\n",
       "\n",
       "    .dataframe tbody tr th {\n",
       "        vertical-align: top;\n",
       "    }\n",
       "\n",
       "    .dataframe thead th {\n",
       "        text-align: right;\n",
       "    }\n",
       "</style>\n",
       "<table border=\"1\" class=\"dataframe\">\n",
       "  <thead>\n",
       "    <tr style=\"text-align: right;\">\n",
       "      <th></th>\n",
       "      <th>artist_id</th>\n",
       "      <th>artist_latitude</th>\n",
       "      <th>artist_location</th>\n",
       "      <th>artist_longitude</th>\n",
       "      <th>artist_name</th>\n",
       "      <th>duration</th>\n",
       "      <th>num_songs</th>\n",
       "      <th>song_id</th>\n",
       "      <th>title</th>\n",
       "      <th>year</th>\n",
       "    </tr>\n",
       "  </thead>\n",
       "  <tbody>\n",
       "    <tr>\n",
       "      <th>0</th>\n",
       "      <td>ARD7TVE1187B99BFB1</td>\n",
       "      <td>NaN</td>\n",
       "      <td>California - LA</td>\n",
       "      <td>NaN</td>\n",
       "      <td>Casual</td>\n",
       "      <td>218.93179</td>\n",
       "      <td>1</td>\n",
       "      <td>SOMZWCG12A8C13C480</td>\n",
       "      <td>I Didn't Mean To</td>\n",
       "      <td>0</td>\n",
       "    </tr>\n",
       "  </tbody>\n",
       "</table>\n",
       "</div>"
      ],
      "text/plain": [
       "            artist_id  artist_latitude  artist_location  artist_longitude  \\\n",
       "0  ARD7TVE1187B99BFB1              NaN  California - LA               NaN   \n",
       "\n",
       "  artist_name   duration  num_songs             song_id             title  \\\n",
       "0      Casual  218.93179          1  SOMZWCG12A8C13C480  I Didn't Mean To   \n",
       "\n",
       "   year  \n",
       "0     0  "
      ]
     },
     "execution_count": 6,
     "metadata": {},
     "output_type": "execute_result"
    }
   ],
   "source": [
    "df_song_data = pd.read_json(filepath, lines='true')\n",
    "df_song_data"
   ]
  },
  {
   "cell_type": "code",
   "execution_count": 7,
   "metadata": {
    "editable": true
   },
   "outputs": [],
   "source": [
    "#temp = pd.DataFrame()\n",
    "#\n",
    "#for file in song_files:\n",
    "#    temp = pd.read_json(file, lines='true')\n",
    "#    df_song_data = df_song_data.append(temp, ignore_index = True)\n",
    "#df_song_data"
   ]
  },
  {
   "cell_type": "markdown",
   "metadata": {
    "editable": true
   },
   "source": [
    "## #1: `songs` Table\n",
    "#### Extract Data for Songs Table\n",
    "- Select columns for song ID, title, artist ID, year, and duration\n",
    "- Use `df.values` to select just the values from the dataframe\n",
    "- Index to select the first (only) record in the dataframe\n",
    "- Convert the array to a list and set it to `song_data`"
   ]
  },
  {
   "cell_type": "code",
   "execution_count": 8,
   "metadata": {
    "editable": true
   },
   "outputs": [],
   "source": [
    "song_data = df_song_data[['song_id',\n",
    "                          'title',\n",
    "                          'artist_id',\n",
    "                          'year',\n",
    "                          'duration']].values[0].tolist()"
   ]
  },
  {
   "cell_type": "markdown",
   "metadata": {
    "editable": true
   },
   "source": [
    "#### Insert Record into Song Table\n",
    "Implement the `song_table_insert` query in `sql_queries.py` and run the cell below to insert a record for this song into the `songs` table. Remember to run `create_tables.py` before running the cell below to ensure you've created/resetted the `songs` table in the sparkify database."
   ]
  },
  {
   "cell_type": "code",
   "execution_count": 9,
   "metadata": {
    "editable": true
   },
   "outputs": [],
   "source": [
    "cur.execute(song_table_insert, song_data)\n",
    "conn.commit()"
   ]
  },
  {
   "cell_type": "markdown",
   "metadata": {
    "editable": true
   },
   "source": [
    "Run `test.ipynb` to see if you've successfully added a record to this table."
   ]
  },
  {
   "cell_type": "markdown",
   "metadata": {
    "editable": true
   },
   "source": [
    "## #2: `artists` Table\n",
    "#### Extract Data for Artists Table\n",
    "- Select columns for artist ID, name, location, latitude, and longitude\n",
    "- Use `df.values` to select just the values from the dataframe\n",
    "- Index to select the first (only) record in the dataframe\n",
    "- Convert the array to a list and set it to `artist_data`"
   ]
  },
  {
   "cell_type": "code",
   "execution_count": 10,
   "metadata": {
    "editable": true
   },
   "outputs": [],
   "source": [
    "artist_data = df_song_data[['artist_id',\n",
    "                            'artist_name',\n",
    "                            'artist_location',\n",
    "                            'artist_latitude',\n",
    "                            'artist_longitude']].values[0].tolist()"
   ]
  },
  {
   "cell_type": "markdown",
   "metadata": {
    "editable": true
   },
   "source": [
    "#### Insert Record into Artist Table\n",
    "Implement the `artist_table_insert` query in `sql_queries.py` and run the cell below to insert a record for this song's artist into the `artists` table. Remember to run `create_tables.py` before running the cell below to ensure you've created/resetted the `artists` table in the sparkify database."
   ]
  },
  {
   "cell_type": "code",
   "execution_count": 11,
   "metadata": {
    "editable": true
   },
   "outputs": [],
   "source": [
    "cur.execute(artist_table_insert, artist_data)\n",
    "conn.commit()"
   ]
  },
  {
   "cell_type": "markdown",
   "metadata": {
    "editable": true
   },
   "source": [
    "Run `test.ipynb` to see if you've successfully added a record to this table."
   ]
  },
  {
   "cell_type": "markdown",
   "metadata": {
    "editable": true
   },
   "source": [
    "# Process `log_data`\n",
    "In this part, you'll perform ETL on the second dataset, `log_data`, to create the `time` and `users` dimensional tables, as well as the `songplays` fact table.\n",
    "\n",
    "Let's perform ETL on a single log file and load a single record into each table.\n",
    "- Use the `get_files` function provided above to get a list of all log JSON files in `data/log_data`\n",
    "- Select the first log file in this list\n",
    "- Read the log file and view the data"
   ]
  },
  {
   "cell_type": "code",
   "execution_count": 12,
   "metadata": {
    "editable": true
   },
   "outputs": [],
   "source": [
    "log_files = get_files('data/log_data')"
   ]
  },
  {
   "cell_type": "code",
   "execution_count": 13,
   "metadata": {
    "editable": true
   },
   "outputs": [],
   "source": [
    "filepath = '/home/workspace/data/log_data/2018/11/2018-11-30-events.json'"
   ]
  },
  {
   "cell_type": "code",
   "execution_count": 14,
   "metadata": {
    "editable": true
   },
   "outputs": [],
   "source": [
    "df_log_data = pd.read_json(filepath, lines='true')"
   ]
  },
  {
   "cell_type": "markdown",
   "metadata": {
    "editable": true
   },
   "source": [
    "## #3: `time` Table\n",
    "#### Extract Data for Time Table\n",
    "- Filter records by `NextSong` action\n",
    "- Convert the `ts` timestamp column to datetime\n",
    "  - Hint: the current timestamp is in milliseconds\n",
    "- Extract the timestamp, hour, day, week of year, month, year, and weekday from the `ts` column and set `time_data` to a list containing these values in order\n",
    "  - Hint: use pandas' [`dt` attribute](https://pandas.pydata.org/pandas-docs/stable/reference/api/pandas.Series.dt.html) to access easily datetimelike properties.\n",
    "- Specify labels for these columns and set to `column_labels`\n",
    "- Create a dataframe, `time_df,` containing the time data for this file by combining `column_labels` and `time_data` into a dictionary and converting this into a dataframe"
   ]
  },
  {
   "cell_type": "code",
   "execution_count": 15,
   "metadata": {
    "editable": true
   },
   "outputs": [],
   "source": [
    "df_time_nextsong = df_log_data[df_log_data.page == 'NextSong']"
   ]
  },
  {
   "cell_type": "code",
   "execution_count": 16,
   "metadata": {
    "editable": true
   },
   "outputs": [],
   "source": [
    "t = pd.to_datetime(df_time_nextsong.ts, unit='ms')"
   ]
  },
  {
   "cell_type": "code",
   "execution_count": 17,
   "metadata": {
    "editable": true
   },
   "outputs": [],
   "source": [
    "#start_time, hour, day, week, month, year, weekday\n",
    "time_data = t,t.dt.hour,t.dt.day,t.dt.week,t.dt.month,t.dt.year,t.dt.dayofweek\n",
    "column_labels = ('timestamp','hour','day','week','month','year','day_of_week')"
   ]
  },
  {
   "cell_type": "code",
   "execution_count": 18,
   "metadata": {
    "editable": true
   },
   "outputs": [],
   "source": [
    "time_df = pd.DataFrame(dict(zip(column_labels, time_data)))"
   ]
  },
  {
   "cell_type": "markdown",
   "metadata": {
    "editable": true
   },
   "source": [
    "#### Insert Records into Time Table\n",
    "Implement the `time_table_insert` query in `sql_queries.py` and run the cell below to insert records for the timestamps in this log file into the `time` table. Remember to run `create_tables.py` before running the cell below to ensure you've created/resetted the `time` table in the sparkify database."
   ]
  },
  {
   "cell_type": "code",
   "execution_count": 19,
   "metadata": {
    "editable": true
   },
   "outputs": [],
   "source": [
    "for i, row in time_df.iterrows():\n",
    "    cur.execute(time_table_insert, list(row))\n",
    "    conn.commit()"
   ]
  },
  {
   "cell_type": "markdown",
   "metadata": {
    "editable": true
   },
   "source": [
    "Run `test.ipynb` to see if you've successfully added records to this table."
   ]
  },
  {
   "cell_type": "markdown",
   "metadata": {
    "editable": true
   },
   "source": [
    "## #4: `users` Table\n",
    "#### Extract Data for Users Table\n",
    "- Select columns for user ID, first name, last name, gender and level and set to `user_df`"
   ]
  },
  {
   "cell_type": "code",
   "execution_count": 20,
   "metadata": {
    "editable": true
   },
   "outputs": [],
   "source": [
    "user_df = df_time_nextsong[['userId', 'firstName', 'lastName', 'gender', 'level']]"
   ]
  },
  {
   "cell_type": "markdown",
   "metadata": {
    "editable": true
   },
   "source": [
    "#### Insert Records into Users Table\n",
    "Implement the `user_table_insert` query in `sql_queries.py` and run the cell below to insert records for the users in this log file into the `users` table. Remember to run `create_tables.py` before running the cell below to ensure you've created/resetted the `users` table in the sparkify database."
   ]
  },
  {
   "cell_type": "code",
   "execution_count": 21,
   "metadata": {
    "editable": true
   },
   "outputs": [],
   "source": [
    "for i, row in user_df.iterrows():\n",
    "    cur.execute(user_table_insert, row)\n",
    "    conn.commit()"
   ]
  },
  {
   "cell_type": "markdown",
   "metadata": {
    "editable": true
   },
   "source": [
    "Run `test.ipynb` to see if you've successfully added records to this table."
   ]
  },
  {
   "cell_type": "markdown",
   "metadata": {
    "editable": true
   },
   "source": [
    "## #5: `songplays` Table\n",
    "#### Extract Data and Songplays Table\n",
    "This one is a little more complicated since information from the songs table, artists table, and original log file are all needed for the `songplays` table. Since the log file does not specify an ID for either the song or the artist, you'll need to get the song ID and artist ID by querying the songs and artists tables to find matches based on song title, artist name, and song duration time.\n",
    "- Implement the `song_select` query in `sql_queries.py` to find the song ID and artist ID based on the title, artist name, and duration of a song.\n",
    "- Select the timestamp, user ID, level, song ID, artist ID, session ID, location, and user agent and set to `songplay_data`\n",
    "\n",
    "#### Insert Records into Songplays Table\n",
    "- Implement the `songplay_table_insert` query and run the cell below to insert records for the songplay actions in this log file into the `songplays` table. Remember to run `create_tables.py` before running the cell below to ensure you've created/resetted the `songplays` table in the sparkify database."
   ]
  },
  {
   "cell_type": "code",
   "execution_count": 25,
   "metadata": {
    "editable": true
   },
   "outputs": [
    {
     "data": {
      "text/html": [
       "<div>\n",
       "<style scoped>\n",
       "    .dataframe tbody tr th:only-of-type {\n",
       "        vertical-align: middle;\n",
       "    }\n",
       "\n",
       "    .dataframe tbody tr th {\n",
       "        vertical-align: top;\n",
       "    }\n",
       "\n",
       "    .dataframe thead th {\n",
       "        text-align: right;\n",
       "    }\n",
       "</style>\n",
       "<table border=\"1\" class=\"dataframe\">\n",
       "  <thead>\n",
       "    <tr style=\"text-align: right;\">\n",
       "      <th></th>\n",
       "      <th>artist</th>\n",
       "      <th>song</th>\n",
       "      <th>length</th>\n",
       "      <th>ts</th>\n",
       "      <th>userId</th>\n",
       "      <th>level</th>\n",
       "      <th>sessionId</th>\n",
       "      <th>location</th>\n",
       "      <th>userAgent</th>\n",
       "    </tr>\n",
       "  </thead>\n",
       "  <tbody>\n",
       "    <tr>\n",
       "      <th>0</th>\n",
       "      <td>Stephen Lynch</td>\n",
       "      <td>Jim Henson's Dead</td>\n",
       "      <td>182.85669</td>\n",
       "      <td>1543537327796</td>\n",
       "      <td>91</td>\n",
       "      <td>free</td>\n",
       "      <td>829</td>\n",
       "      <td>Dallas-Fort Worth-Arlington, TX</td>\n",
       "      <td>Mozilla/5.0 (compatible; MSIE 10.0; Windows NT...</td>\n",
       "    </tr>\n",
       "    <tr>\n",
       "      <th>1</th>\n",
       "      <td>Manowar</td>\n",
       "      <td>Shell Shock</td>\n",
       "      <td>247.56200</td>\n",
       "      <td>1543540121796</td>\n",
       "      <td>73</td>\n",
       "      <td>paid</td>\n",
       "      <td>1049</td>\n",
       "      <td>Tampa-St. Petersburg-Clearwater, FL</td>\n",
       "      <td>\"Mozilla/5.0 (Macintosh; Intel Mac OS X 10_9_4...</td>\n",
       "    </tr>\n",
       "    <tr>\n",
       "      <th>2</th>\n",
       "      <td>Morcheeba</td>\n",
       "      <td>Women Lose Weight (Feat: Slick Rick)</td>\n",
       "      <td>257.41016</td>\n",
       "      <td>1543540368796</td>\n",
       "      <td>73</td>\n",
       "      <td>paid</td>\n",
       "      <td>1049</td>\n",
       "      <td>Tampa-St. Petersburg-Clearwater, FL</td>\n",
       "      <td>\"Mozilla/5.0 (Macintosh; Intel Mac OS X 10_9_4...</td>\n",
       "    </tr>\n",
       "    <tr>\n",
       "      <th>3</th>\n",
       "      <td>Maroon 5</td>\n",
       "      <td>Won't Go Home Without You</td>\n",
       "      <td>231.23546</td>\n",
       "      <td>1543540625796</td>\n",
       "      <td>73</td>\n",
       "      <td>paid</td>\n",
       "      <td>1049</td>\n",
       "      <td>Tampa-St. Petersburg-Clearwater, FL</td>\n",
       "      <td>\"Mozilla/5.0 (Macintosh; Intel Mac OS X 10_9_4...</td>\n",
       "    </tr>\n",
       "    <tr>\n",
       "      <th>4</th>\n",
       "      <td>Train</td>\n",
       "      <td>Hey_ Soul Sister</td>\n",
       "      <td>216.76363</td>\n",
       "      <td>1543540856796</td>\n",
       "      <td>73</td>\n",
       "      <td>paid</td>\n",
       "      <td>1049</td>\n",
       "      <td>Tampa-St. Petersburg-Clearwater, FL</td>\n",
       "      <td>\"Mozilla/5.0 (Macintosh; Intel Mac OS X 10_9_4...</td>\n",
       "    </tr>\n",
       "  </tbody>\n",
       "</table>\n",
       "</div>"
      ],
      "text/plain": [
       "          artist                                  song     length  \\\n",
       "0  Stephen Lynch                     Jim Henson's Dead  182.85669   \n",
       "1        Manowar                           Shell Shock  247.56200   \n",
       "2      Morcheeba  Women Lose Weight (Feat: Slick Rick)  257.41016   \n",
       "3       Maroon 5             Won't Go Home Without You  231.23546   \n",
       "4          Train                      Hey_ Soul Sister  216.76363   \n",
       "\n",
       "              ts userId level  sessionId                             location  \\\n",
       "0  1543537327796     91  free        829      Dallas-Fort Worth-Arlington, TX   \n",
       "1  1543540121796     73  paid       1049  Tampa-St. Petersburg-Clearwater, FL   \n",
       "2  1543540368796     73  paid       1049  Tampa-St. Petersburg-Clearwater, FL   \n",
       "3  1543540625796     73  paid       1049  Tampa-St. Petersburg-Clearwater, FL   \n",
       "4  1543540856796     73  paid       1049  Tampa-St. Petersburg-Clearwater, FL   \n",
       "\n",
       "                                           userAgent  \n",
       "0  Mozilla/5.0 (compatible; MSIE 10.0; Windows NT...  \n",
       "1  \"Mozilla/5.0 (Macintosh; Intel Mac OS X 10_9_4...  \n",
       "2  \"Mozilla/5.0 (Macintosh; Intel Mac OS X 10_9_4...  \n",
       "3  \"Mozilla/5.0 (Macintosh; Intel Mac OS X 10_9_4...  \n",
       "4  \"Mozilla/5.0 (Macintosh; Intel Mac OS X 10_9_4...  "
      ]
     },
     "execution_count": 25,
     "metadata": {},
     "output_type": "execute_result"
    }
   ],
   "source": [
    "df_artists_songs = df_time_nextsong[['artist','song','length','ts', 'userId', 'level', 'sessionId','location','userAgent']]\n",
    "df_artists_songs.head(5)"
   ]
  },
  {
   "cell_type": "code",
   "execution_count": 26,
   "metadata": {
    "editable": true
   },
   "outputs": [
    {
     "name": "stdout",
     "output_type": "stream",
     "text": [
      "Jim Henson's Dead Stephen Lynch 182.85669 SOFSOCN12A8C143F5D ARXR32B1187FB57099\n",
      "Shell Shock Manowar 247.562 SOFSOCN12A8C143F5D ARXR32B1187FB57099\n",
      "Women Lose Weight (Feat: Slick Rick) Morcheeba 257.41016 SOFSOCN12A8C143F5D ARXR32B1187FB57099\n",
      "Won't Go Home Without You Maroon 5 231.23546 SOFSOCN12A8C143F5D ARXR32B1187FB57099\n",
      "Hey_ Soul Sister Train 216.76363 SOFSOCN12A8C143F5D ARXR32B1187FB57099\n",
      "I'm In Miami Bitch LMFAO 227.99628 SOFSOCN12A8C143F5D ARXR32B1187FB57099\n",
      "Sexy Bitch DJ Dizzy 221.1522 SOFSOCN12A8C143F5D ARXR32B1187FB57099\n",
      "The Cure & The Cause (Dennis Ferrer Remix) Fish Go Deep & Tracey K 377.41669 SOFSOCN12A8C143F5D ARXR32B1187FB57099\n",
      "Staring At Me M83 96.1824 SOFSOCN12A8C143F5D ARXR32B1187FB57099\n",
      "The Second You Sleep Saybia 257.25342 SOFSOCN12A8C143F5D ARXR32B1187FB57099\n",
      "Wide Eyes Local Natives 266.05669 SOFSOCN12A8C143F5D ARXR32B1187FB57099\n",
      "La Resistance (Medley) (LP Version) South Park 112.97914 SOFSOCN12A8C143F5D ARXR32B1187FB57099\n",
      "Restless UNKLE Feat. Josh Homme 307.19955 SOFSOCN12A8C143F5D ARXR32B1187FB57099\n",
      "Noc... Justyna Steczkowska 333.53098 SOFSOCN12A8C143F5D ARXR32B1187FB57099\n",
      "Like You Evanescence 256.91383 SOFSOCN12A8C143F5D ARXR32B1187FB57099\n",
      "God Put A Smile Upon Your Face Coldplay 297.35138 SOFSOCN12A8C143F5D ARXR32B1187FB57099\n",
      "Playboy Hot Chip 333.50485 SOFSOCN12A8C143F5D ARXR32B1187FB57099\n",
      "Every Time You Go Ellie Goulding 205.06077 SOFSOCN12A8C143F5D ARXR32B1187FB57099\n",
      "Natural Anthem (Album) Postal Service 307.53914 SOFSOCN12A8C143F5D ARXR32B1187FB57099\n",
      "Taylor Jack Johnson 240.06485 SOFSOCN12A8C143F5D ARXR32B1187FB57099\n",
      "Naked As We Can Iron And Wine 153.05098 SOFSOCN12A8C143F5D ARXR32B1187FB57099\n",
      "Fantasy The xx 158.24934 SOFSOCN12A8C143F5D ARXR32B1187FB57099\n",
      "Epilogue The Antlers 328.88118 SOFSOCN12A8C143F5D ARXR32B1187FB57099\n",
      "Groovin' Fattburger 217.20771 SOFSOCN12A8C143F5D ARXR32B1187FB57099\n",
      "Ain't No Way (You Won't Love Me) Chris Brown 203.80689 SOFSOCN12A8C143F5D ARXR32B1187FB57099\n",
      "Rome Phoenix 278.07302 SOFSOCN12A8C143F5D ARXR32B1187FB57099\n",
      "Highway Through My Home Jim Lauderdale/Ralph Stanley & The Clinch Mountain Boys 127.05914 SOFSOCN12A8C143F5D ARXR32B1187FB57099\n",
      "143 Musiq 297.84771 SOFSOCN12A8C143F5D ARXR32B1187FB57099\n",
      "Dreams-Come-True-Girl Cass McCombs feat. Karen Black 322.06322 SOFSOCN12A8C143F5D ARXR32B1187FB57099\n",
      "I Don't Feel Like Dancin' Scissor Sisters 352.522 SOFSOCN12A8C143F5D ARXR32B1187FB57099\n",
      "Right On Time (Album Version) O.A.R. 315.74159 SOFSOCN12A8C143F5D ARXR32B1187FB57099\n",
      "Black Lines 1 Mile North 352.73098 SOFSOCN12A8C143F5D ARXR32B1187FB57099\n",
      "Uprising Muse 304.84853 SOFSOCN12A8C143F5D ARXR32B1187FB57099\n",
      "Man Makes The Zoo USS (Ubiquitous Synergy Seeker) 307.61751 SOFSOCN12A8C143F5D ARXR32B1187FB57099\n",
      "Blacks/Radio The Psychedelic Furs 417.07057 SOFSOCN12A8C143F5D ARXR32B1187FB57099\n",
      "Love Dealer (Featuring Justin Timberlake) EsmÃÂ©e Denters / Justin Timberlake 227.52608 SOFSOCN12A8C143F5D ARXR32B1187FB57099\n",
      "ReprÃÂ©sente Alliance Ethnik 252.21179 SOFSOCN12A8C143F5D ARXR32B1187FB57099\n",
      "Hey_ Soul Sister Train 216.76363 SOFSOCN12A8C143F5D ARXR32B1187FB57099\n",
      "Up And Gone Hoobastank 202.57914 SOFSOCN12A8C143F5D ARXR32B1187FB57099\n",
      "Te Conoci Ismael Serrano 179.35628 SOFSOCN12A8C143F5D ARXR32B1187FB57099\n",
      "Bottle Pop The Pussycat Dolls / Snoop Dogg 210.31138 SOFSOCN12A8C143F5D ARXR32B1187FB57099\n",
      "My Love Will Follow You Dierks Bentley 198.63465 SOFSOCN12A8C143F5D ARXR32B1187FB57099\n",
      "Found Home 59 Times the Pain 144.95302 SOFSOCN12A8C143F5D ARXR32B1187FB57099\n",
      "My December Linkin Park 259.86567 SOFSOCN12A8C143F5D ARXR32B1187FB57099\n",
      "The Perfect Kiss New Order 288.05179 SOFSOCN12A8C143F5D ARXR32B1187FB57099\n",
      "You're Gonna Make Me Lonesome When You Go Madeleine Peyroux 206.18404 SOFSOCN12A8C143F5D ARXR32B1187FB57099\n",
      "Shortie Like Mine Bow Wow feat. Chris Brown and JohntÃÂ¡ Austin 268.06812 SOFSOCN12A8C143F5D ARXR32B1187FB57099\n",
      "Domination Symphony X 389.45914 SOFSOCN12A8C143F5D ARXR32B1187FB57099\n",
      "Inside My Love (Digitally Remastered 93) Minnie Riperton 238.73261 SOFSOCN12A8C143F5D ARXR32B1187FB57099\n",
      "Structure Custom Blue 346.51383 SOFSOCN12A8C143F5D ARXR32B1187FB57099\n",
      "Killing In The Name Rage Against The Machine 314.40934 SOFSOCN12A8C143F5D ARXR32B1187FB57099\n",
      "Girl You Know It's True Milli Vanilli 197.92934 SOFSOCN12A8C143F5D ARXR32B1187FB57099\n",
      "Waterfall (Spirit Of The Rainforest Album Version) David Arkenstone 363.41506 SOFSOCN12A8C143F5D ARXR32B1187FB57099\n",
      "Robot Soul (Radio Edit) Cosmo Vitelli 206.05342 SOFSOCN12A8C143F5D ARXR32B1187FB57099\n",
      "Blindfold Morcheeba 277.4722 SOFSOCN12A8C143F5D ARXR32B1187FB57099\n",
      "I'm Yours (Album Version) Jason Mraz 243.48689 SOFSOCN12A8C143F5D ARXR32B1187FB57099\n",
      "Say Hello Deep Dish 274.28526 SOFSOCN12A8C143F5D ARXR32B1187FB57099\n",
      "(I Just) Died In Your Arms Cutting Crew 263.07873 SOFSOCN12A8C143F5D ARXR32B1187FB57099\n",
      "Sweet Jane The Velvet Underground 240.66567 SOFSOCN12A8C143F5D ARXR32B1187FB57099\n",
      "Gears Future Rock 239.90812 SOFSOCN12A8C143F5D ARXR32B1187FB57099\n",
      "Seven Nation Army (Album Version) The White Stripes 231.81016 SOFSOCN12A8C143F5D ARXR32B1187FB57099\n",
      "Fix You Coldplay 294.1122 SOFSOCN12A8C143F5D ARXR32B1187FB57099\n",
      "It Could Be Sweet Portishead 259.99628 SOFSOCN12A8C143F5D ARXR32B1187FB57099\n",
      "If This Was The Last Song Thelma Houston 196.51873 SOFSOCN12A8C143F5D ARXR32B1187FB57099\n",
      "Poppiholla Chicane 223.92118 SOFSOCN12A8C143F5D ARXR32B1187FB57099\n",
      "The Unforgiven III Metallica 466.54649 SOFSOCN12A8C143F5D ARXR32B1187FB57099\n",
      "Apresurate Jennifer Lopez 301.34812 SOFSOCN12A8C143F5D ARXR32B1187FB57099\n",
      "There Is Box Car Racer 196.93669 SOFSOCN12A8C143F5D ARXR32B1187FB57099\n",
      "Would That Make U Love Me Robin Thicke 216.68526 SOFSOCN12A8C143F5D ARXR32B1187FB57099\n",
      "Screaming Infidelities Dashboard Confessional 226.29832 SOFSOCN12A8C143F5D ARXR32B1187FB57099\n",
      "Big Idea Radney Foster 205.84444 SOFSOCN12A8C143F5D ARXR32B1187FB57099\n",
      "Bulletproof La Roux 205.60934 SOFSOCN12A8C143F5D ARXR32B1187FB57099\n",
      "The Tune Wax Tailor 177.68444 SOFSOCN12A8C143F5D ARXR32B1187FB57099\n",
      "Trani Kings Of Leon 300.56444 SOFSOCN12A8C143F5D ARXR32B1187FB57099\n",
      "Girl Money Kix 246.25587 SOFSOCN12A8C143F5D ARXR32B1187FB57099\n",
      "Chloe Dancer/Crown Of Thorns Mother Love Bone 495.72526 SOFSOCN12A8C143F5D ARXR32B1187FB57099\n",
      "The Bachelor and the Bride The Decemberists 252.81261 SOFSOCN12A8C143F5D ARXR32B1187FB57099\n",
      "M Telefon Tel Aviv 222.09261 SOFSOCN12A8C143F5D ARXR32B1187FB57099\n",
      "Nothin' On You [feat. Bruno Mars] (Album Version) B.o.B 269.63546 SOFSOCN12A8C143F5D ARXR32B1187FB57099\n",
      "You Sent Me Flying / Cherry Amy Winehouse 409.96526 SOFSOCN12A8C143F5D ARXR32B1187FB57099\n",
      "Faithless BEFORE THE DAWN 195.65669 SOFSOCN12A8C143F5D ARXR32B1187FB57099\n",
      "You Only Live Once The Strokes 187.34975 SOFSOCN12A8C143F5D ARXR32B1187FB57099\n",
      "Tempting Time Animals As Leaders 323.83955 SOFSOCN12A8C143F5D ARXR32B1187FB57099\n",
      "Flowers In December Mazzy Star 297.9522 SOFSOCN12A8C143F5D ARXR32B1187FB57099\n",
      "Take It Back Cream 185.44281 SOFSOCN12A8C143F5D ARXR32B1187FB57099\n",
      "Behind Two Hills&A Swimming Pool MÃÂºm 68.67546 SOFSOCN12A8C143F5D ARXR32B1187FB57099\n",
      "My First Kiss (Feat. Ke$ha) [Album Version] 3OH!3 192.522 SOFSOCN12A8C143F5D ARXR32B1187FB57099\n",
      "Straight Outta Compton (Extended Mix) (Edit) (Explicit) N.W.A. 266.26567 SOFSOCN12A8C143F5D ARXR32B1187FB57099\n",
      "Goin' Home Dan Auerbach 296.95955 SOFSOCN12A8C143F5D ARXR32B1187FB57099\n",
      "Sick Lagwagon 173.322 SOFSOCN12A8C143F5D ARXR32B1187FB57099\n",
      "Fix You Coldplay 294.1122 SOFSOCN12A8C143F5D ARXR32B1187FB57099\n",
      "Half Of My Heart John Mayer 250.38322 SOFSOCN12A8C143F5D ARXR32B1187FB57099\n",
      "Revelry Kings Of Leon 201.79546 SOFSOCN12A8C143F5D ARXR32B1187FB57099\n",
      "World Coming Down Ashbury Heights 198.60853 SOFSOCN12A8C143F5D ARXR32B1187FB57099\n",
      "Fire Scooter 213.02812 SOFSOCN12A8C143F5D ARXR32B1187FB57099\n",
      "Shoot Me Down Boy Kill Boy 220.47302 SOFSOCN12A8C143F5D ARXR32B1187FB57099\n",
      "Juice (Know The Ledge) Eric B. & Rakim 241.60608 SOFSOCN12A8C143F5D ARXR32B1187FB57099\n",
      "Hymne A L'Amour (Album Version) Josh Groban 243.40853 SOFSOCN12A8C143F5D ARXR32B1187FB57099\n",
      "We're Only Gonna Die (Album Version) Bad Religion 131.86567 SOFSOCN12A8C143F5D ARXR32B1187FB57099\n",
      "Next Hype Tempa T 236.35546 SOFSOCN12A8C143F5D ARXR32B1187FB57099\n",
      "Fireflies Charttraxx Karaoke 225.17506 SOFSOCN12A8C143F5D ARXR32B1187FB57099\n",
      "Hotel California Eagles 372.29669 SOFSOCN12A8C143F5D ARXR32B1187FB57099\n",
      "Little Wing Eric Clapton 409.57342 SOFSOCN12A8C143F5D ARXR32B1187FB57099\n",
      "Smothered (Album Version) Spineshank 187.6371 SOFSOCN12A8C143F5D ARXR32B1187FB57099\n",
      "Try Your Best Kaiser Chiefs 221.07383 SOFSOCN12A8C143F5D ARXR32B1187FB57099\n",
      "Le Courage Des Oiseaux Dominique A 153.20771 SOFSOCN12A8C143F5D ARXR32B1187FB57099\n",
      "Lips Like Morphine (Album Version) Kill Hannah 224.49587 SOFSOCN12A8C143F5D ARXR32B1187FB57099\n",
      "Kiedys zrozumiesz I:gor 190.27546 SOFSOCN12A8C143F5D ARXR32B1187FB57099\n",
      "Fallin' Apart The All-American Rejects 206.96771 SOFSOCN12A8C143F5D ARXR32B1187FB57099\n",
      "Don't Cry (Original) Guns N' Roses 284.05506 SOFSOCN12A8C143F5D ARXR32B1187FB57099\n",
      "Transparency White Denim 148.55791 SOFSOCN12A8C143F5D ARXR32B1187FB57099\n",
      "La Suerte De Mi Vida El Canto del Loco 226.0371 SOFSOCN12A8C143F5D ARXR32B1187FB57099\n",
      "Redwing Grinderswitch 268.2771 SOFSOCN12A8C143F5D ARXR32B1187FB57099\n",
      "Starfish-On-The-Toast (2008 Digital Remaster) Donovan 169.22077 SOFSOCN12A8C143F5D ARXR32B1187FB57099\n",
      "Illusions As I Lay Dying 348.1073 SOFSOCN12A8C143F5D ARXR32B1187FB57099\n",
      "Bright Lights (Remastered Version) matchbox twenty 241.34485 SOFSOCN12A8C143F5D ARXR32B1187FB57099\n",
      "Field Goal Kinky 105.32526 SOFSOCN12A8C143F5D ARXR32B1187FB57099\n",
      "Nah! Shania Twain 250.51383 SOFSOCN12A8C143F5D ARXR32B1187FB57099\n",
      "By The Way Hinder 231.73179 SOFSOCN12A8C143F5D ARXR32B1187FB57099\n",
      "Keep On Running The Spencer Davis Group 165.27628 SOFSOCN12A8C143F5D ARXR32B1187FB57099\n",
      "I Dont Wanna Wait SOJA 355.89179 SOFSOCN12A8C143F5D ARXR32B1187FB57099\n",
      "Echonomix Infected Mushroom 463.72526 SOFSOCN12A8C143F5D ARXR32B1187FB57099\n",
      "One By One Unkle Bob 160.10404 SOFSOCN12A8C143F5D ARXR32B1187FB57099\n",
      "Sin Miedo a Nada (con Amaia Montero) Alex Ubago 313.28608 SOFSOCN12A8C143F5D ARXR32B1187FB57099\n",
      "Bonnie Brae The Twilight Singers 286.53669 SOFSOCN12A8C143F5D ARXR32B1187FB57099\n",
      "War Chikita Violenta 255.92118 SOFSOCN12A8C143F5D ARXR32B1187FB57099\n",
      "Sad Lisa Cat Stevens 225.17506 SOFSOCN12A8C143F5D ARXR32B1187FB57099\n",
      "The House That Nat Built (Album Version) Kenny Garrett 265.19465 SOFSOCN12A8C143F5D ARXR32B1187FB57099\n",
      "Jealous Minds Think Alike You Me At Six 216.68526 SOFSOCN12A8C143F5D ARXR32B1187FB57099\n",
      "My Mother's Eyes Nellie Lutcher 195.70893 SOFSOCN12A8C143F5D ARXR32B1187FB57099\n",
      "Make Her Say Kid Cudi / Kanye West / Common 237.76608 SOFSOCN12A8C143F5D ARXR32B1187FB57099\n",
      "Viaje Sin Rumbo (2004 Digital Remaster) Tiro De Gracia 214.83057 SOFSOCN12A8C143F5D ARXR32B1187FB57099\n",
      "Dreamdancer polarkreis 18 265.29914 SOFSOCN12A8C143F5D ARXR32B1187FB57099\n",
      "The Queen of Nothing + / - {Plus/Minus} 318.98077 SOFSOCN12A8C143F5D ARXR32B1187FB57099\n",
      "Riot In Cell Block Number Nine Dr Feelgood 216.13669 SOFSOCN12A8C143F5D ARXR32B1187FB57099\n",
      "Sehr kosmisch Harmonia 655.77751 SOFSOCN12A8C143F5D ARXR32B1187FB57099\n",
      "Everything You Love (Album Version) Chimaira 377.36444 SOFSOCN12A8C143F5D ARXR32B1187FB57099\n",
      "Someone Else's Life Joshua Radin 211.27791 SOFSOCN12A8C143F5D ARXR32B1187FB57099\n",
      "Godine prolaze Bajaga & Instruktori 254.95465 SOFSOCN12A8C143F5D ARXR32B1187FB57099\n",
      "Private Affair (Amended Album Version) The Virgins 169.37751 SOFSOCN12A8C143F5D ARXR32B1187FB57099\n",
      "Ginko Biloba SA Rawls / Still Flyin' / Still Flyin' 183.09179 SOFSOCN12A8C143F5D ARXR32B1187FB57099\n",
      "Three Day Weekend Grown Ups 233.42975 SOFSOCN12A8C143F5D ARXR32B1187FB57099\n",
      "Meen Dah Elly Nseik Nancy Ajram 221.67465 SOFSOCN12A8C143F5D ARXR32B1187FB57099\n",
      "Boot On The Seat The Donkeys 272.19546 SOFSOCN12A8C143F5D ARXR32B1187FB57099\n",
      "FaFaFa (Radio Edit) Datarock 228.49261 SOFSOCN12A8C143F5D ARXR32B1187FB57099\n",
      "Human After All Daft Punk 319.42485 SOFSOCN12A8C143F5D ARXR32B1187FB57099\n",
      "Somebody To Love Justin Bieber 220.89098 SOFSOCN12A8C143F5D ARXR32B1187FB57099\n",
      "Real Love Beach House 320.44363 SOFSOCN12A8C143F5D ARXR32B1187FB57099\n",
      "Subterranean Homesick Blues (Album Version) The Walkmen 199.36608 SOFSOCN12A8C143F5D ARXR32B1187FB57099\n",
      "Can't Break Thru Busted / Charlie Simpson / Mattie Jay / James Bourne 252.83873 SOFSOCN12A8C143F5D ARXR32B1187FB57099\n",
      "Get Me Bodied BeyoncÃÂ© 374.59546 SOFSOCN12A8C143F5D ARXR32B1187FB57099\n",
      "Maybe Sick Puppies 209.44934 SOFSOCN12A8C143F5D ARXR32B1187FB57099\n",
      "Walk To The Water U2 289.2273 SOFSOCN12A8C143F5D ARXR32B1187FB57099\n",
      "I CAN'T GET STARTED Ron Carter 497.13587 SOFSOCN12A8C143F5D ARXR32B1187FB57099\n",
      "Breath After Breath Duran Duran 297.63873 SOFSOCN12A8C143F5D ARXR32B1187FB57099\n",
      "Head Over Heels Tears For Fears 255.34649 SOFSOCN12A8C143F5D ARXR32B1187FB57099\n",
      "Lonely As You Foo Fighters 277.10649 SOFSOCN12A8C143F5D ARXR32B1187FB57099\n",
      "One Year_ Six Months Yellowcard 208.79628 SOFSOCN12A8C143F5D ARXR32B1187FB57099\n",
      "Against The Wall Big Tymers 252.05506 SOFSOCN12A8C143F5D ARXR32B1187FB57099\n",
      "Knocking On Forbidden Doors Enigma 262.71302 SOFSOCN12A8C143F5D ARXR32B1187FB57099\n",
      "Hey Hey Dennis Ferrer 209.162 SOFSOCN12A8C143F5D ARXR32B1187FB57099\n",
      "Somebody To Love Justin Bieber 220.89098 SOFSOCN12A8C143F5D ARXR32B1187FB57099\n",
      "Genom tunna tyger Markus KrunegÃÂ¥rd 185.5473 SOFSOCN12A8C143F5D ARXR32B1187FB57099\n",
      "The Little Things Give You Away [Live At Milton Keynes] Linkin Park 439.562 SOFSOCN12A8C143F5D ARXR32B1187FB57099\n",
      "Devil May Care Jamie Cullum 204.25098 SOFSOCN12A8C143F5D ARXR32B1187FB57099\n",
      "Tell Me I'm A Wreck Every Avenue 219.95057 SOFSOCN12A8C143F5D ARXR32B1187FB57099\n",
      "Constellations Jack Johnson 201.63873 SOFSOCN12A8C143F5D ARXR32B1187FB57099\n",
      "Vuelve Shakira 233.87383 SOFSOCN12A8C143F5D ARXR32B1187FB57099\n",
      "Give Me Anything The Maine 189.59628 SOFSOCN12A8C143F5D ARXR32B1187FB57099\n",
      "Worm Infested Cannibal Corpse 209.00526 SOFSOCN12A8C143F5D ARXR32B1187FB57099\n",
      "Headlights Look Like Diamonds Arcade Fire 267.80689 SOFSOCN12A8C143F5D ARXR32B1187FB57099\n",
      "Hands Up Black Eyed Peas 215.7971 SOFSOCN12A8C143F5D ARXR32B1187FB57099\n",
      "Sweet And Wild Radney Foster 288.96608 SOFSOCN12A8C143F5D ARXR32B1187FB57099\n",
      "Satellite Mind Metric 222.85016 SOFSOCN12A8C143F5D ARXR32B1187FB57099\n",
      "You're The One Dwight Yoakam 239.3073 SOFSOCN12A8C143F5D ARXR32B1187FB57099\n",
      "Did You Get My Message? (Live From Montalvo) Jason Mraz 266.63138 SOFSOCN12A8C143F5D ARXR32B1187FB57099\n",
      "N A Whitemanzeyez Kutt Calhoun 307.51302 SOFSOCN12A8C143F5D ARXR32B1187FB57099\n",
      "Karma Police Radiohead 261.45914 SOFSOCN12A8C143F5D ARXR32B1187FB57099\n",
      "Puto Molotov 127.37261 SOFSOCN12A8C143F5D ARXR32B1187FB57099\n",
      "Killing Lies The Strokes 230.1122 SOFSOCN12A8C143F5D ARXR32B1187FB57099\n",
      "Hallelujah Rufus Wainwright 249.62567 SOFSOCN12A8C143F5D ARXR32B1187FB57099\n",
      "Ghosts 'n' Stuff (Original Instrumental Mix) Deadmau5 374.20363 SOFSOCN12A8C143F5D ARXR32B1187FB57099\n",
      "You're The Voice John Farnham 300.72118 SOFSOCN12A8C143F5D ARXR32B1187FB57099\n",
      "Inside Of You Infant Sorrow 170.16118 SOFSOCN12A8C143F5D ARXR32B1187FB57099\n",
      "Clean Up Woman (Single/LP Version) Betty Wright 164.85832 SOFSOCN12A8C143F5D ARXR32B1187FB57099\n",
      "Tranen Gelachen Guus Meeuwis 198.42567 SOFSOCN12A8C143F5D ARXR32B1187FB57099\n",
      "The Small Print Muse 209.00526 SOFSOCN12A8C143F5D ARXR32B1187FB57099\n",
      "A QuÃÂ© Niegas El Delirio (MalagueÃÂ±a) (Live) Estrella Morente 135.70567 SOFSOCN12A8C143F5D ARXR32B1187FB57099\n",
      "It's My Life (Radio Edit) Dr. Alban 240.14322 SOFSOCN12A8C143F5D ARXR32B1187FB57099\n",
      "Sit Down. Stand Up Radiohead 260.0224 SOFSOCN12A8C143F5D ARXR32B1187FB57099\n",
      "Purple Weed Mondo Marcio 263.60118 SOFSOCN12A8C143F5D ARXR32B1187FB57099\n",
      "Someone Else's Arms Mae 309.15873 SOFSOCN12A8C143F5D ARXR32B1187FB57099\n",
      "The Future Ain't What It Used To Be Meat Loaf / Jennifer Hudson 474.01751 SOFSOCN12A8C143F5D ARXR32B1187FB57099\n",
      "A-Punk (Album) Vampire Weekend 137.82159 SOFSOCN12A8C143F5D ARXR32B1187FB57099\n",
      "Time To Pretend MGMT 264.17587 SOFSOCN12A8C143F5D ARXR32B1187FB57099\n",
      "Luna y Sol Federico Aubele 213.65506 SOFSOCN12A8C143F5D ARXR32B1187FB57099\n",
      "Touch My Horn Jesse Rose 313.15546 SOFSOCN12A8C143F5D ARXR32B1187FB57099\n",
      "Eternity Orion 292.70159 SOFSOCN12A8C143F5D ARXR32B1187FB57099\n",
      "Dyed in the Wool (Album Version) Circa Survive 298.70975 SOFSOCN12A8C143F5D ARXR32B1187FB57099\n",
      "Wretchrospective (feat. Vis) Wretch 32_ Vis 243.35628 SOFSOCN12A8C143F5D ARXR32B1187FB57099\n",
      "Simple Simian Mobile Disco 354.61179 SOFSOCN12A8C143F5D ARXR32B1187FB57099\n",
      "Riecht wie Teen Spirit (Smells Like Teen Spirit) ErdmÃÂ¶bel 289.25342 SOFSOCN12A8C143F5D ARXR32B1187FB57099\n",
      "Adrenalin Eisbrecher 241.89342 SOFSOCN12A8C143F5D ARXR32B1187FB57099\n",
      "Bread & Water Ryan Bingham 247.30077 SOFSOCN12A8C143F5D ARXR32B1187FB57099\n",
      "VooDoo Ashanti 282.46159 SOFSOCN12A8C143F5D ARXR32B1187FB57099\n",
      "Horn Concerto No. 4 in E flat K495: II. Romance (Andante cantabile) Barry Tuckwell/Academy of St Martin-in-the-Fields/Sir Neville Marriner 277.15873 SOFSOCN12A8C143F5D ARXR32B1187FB57099\n",
      "Frankie's Office Clint Eastwood 65.25342 SOFSOCN12A8C143F5D ARXR32B1187FB57099\n",
      "Fireflies Charttraxx Karaoke 225.17506 SOFSOCN12A8C143F5D ARXR32B1187FB57099\n",
      "Summer Breeze Jason Mraz 264.69832 SOFSOCN12A8C143F5D ARXR32B1187FB57099\n",
      "Love Shack The B-52's 321.54077 SOFSOCN12A8C143F5D ARXR32B1187FB57099\n",
      "Alexandra Aventura 242.1024 SOFSOCN12A8C143F5D ARXR32B1187FB57099\n",
      "Canada Five Iron Frenzy 236.09424 SOFSOCN12A8C143F5D ARXR32B1187FB57099\n",
      "Anthem For The Underdog 12 Stones 184.0322 SOFSOCN12A8C143F5D ARXR32B1187FB57099\n",
      "Revelry Kings Of Leon 201.79546 SOFSOCN12A8C143F5D ARXR32B1187FB57099\n",
      "Get Ready To Bounce Recall 08 Brooklyn Bounce 359.13098 SOFSOCN12A8C143F5D ARXR32B1187FB57099\n",
      "The Good Fight Dashboard Confessional 147.30404 SOFSOCN12A8C143F5D ARXR32B1187FB57099\n",
      "Low Land Moan Lonnie Johnson 194.55955 SOFSOCN12A8C143F5D ARXR32B1187FB57099\n",
      "In Leggo Beast 376.58077 SOFSOCN12A8C143F5D ARXR32B1187FB57099\n",
      "Sway The Pussycat Dolls 190.95465 SOFSOCN12A8C143F5D ARXR32B1187FB57099\n",
      "I Miss You Now Stereophonics 290.53342 SOFSOCN12A8C143F5D ARXR32B1187FB57099\n",
      "Masculine Eclipse The Beautiful South 236.5122 SOFSOCN12A8C143F5D ARXR32B1187FB57099\n",
      "As If Set Afire The Acacia Strain 194.21995 SOFSOCN12A8C143F5D ARXR32B1187FB57099\n",
      "Underwater World ATB 251.48036 SOFSOCN12A8C143F5D ARXR32B1187FB57099\n",
      "Our Last Time The Robert Cray Band 309.52444 SOFSOCN12A8C143F5D ARXR32B1187FB57099\n",
      "T.N.T. For The Brain (112 Bpm) (Radio Edit) Enigma 242.78159 SOFSOCN12A8C143F5D ARXR32B1187FB57099\n",
      "Tattered Banners And Bloody Flags Amon Amarth 268.2771 SOFSOCN12A8C143F5D ARXR32B1187FB57099\n",
      "The Great Escape (Album Version) (Explicit) We Are Scientists 198.89587 SOFSOCN12A8C143F5D ARXR32B1187FB57099\n",
      "Lacreme napulitane Roberto Murolo 188.02893 SOFSOCN12A8C143F5D ARXR32B1187FB57099\n",
      "Autobiography Ashlee Simpson 214.43873 SOFSOCN12A8C143F5D ARXR32B1187FB57099\n",
      "The Ecstasy Of Gold Metallica 152.60689 SOFSOCN12A8C143F5D ARXR32B1187FB57099\n",
      "Kryptonite 3 Doors Down 233.74322 SOFSOCN12A8C143F5D ARXR32B1187FB57099\n",
      "No Fool (For Love) Hazell Dean 367.98649 SOFSOCN12A8C143F5D ARXR32B1187FB57099\n",
      "Pray Apocalyptica 262.5824 SOFSOCN12A8C143F5D ARXR32B1187FB57099\n",
      "Bubble Toes Jack Johnson 236.93016 SOFSOCN12A8C143F5D ARXR32B1187FB57099\n",
      "Lotus Cage The Elephant 196.38812 SOFSOCN12A8C143F5D ARXR32B1187FB57099\n",
      "You Belong With Me Taylor Swift 230.47791 SOFSOCN12A8C143F5D ARXR32B1187FB57099\n",
      "Candy Rain Soul For Real 271.25506 SOFSOCN12A8C143F5D ARXR32B1187FB57099\n",
      "Firestarter The Prodigy 225.09669 SOFSOCN12A8C143F5D ARXR32B1187FB57099\n",
      "Addicted Amy Winehouse 165.11955 SOFSOCN12A8C143F5D ARXR32B1187FB57099\n",
      "The Evil That Men Do (1998 Digital Remaster) Iron Maiden 275.19955 SOFSOCN12A8C143F5D ARXR32B1187FB57099\n",
      "All Around Me David Crowder*Band 276.74077 SOFSOCN12A8C143F5D ARXR32B1187FB57099\n",
      "Everyday The Cinematic Orchestra 622.2624 SOFSOCN12A8C143F5D ARXR32B1187FB57099\n",
      "Feel It Three 6 Mafia vs. TiÃÂ«sto with Sean Kingston and Flo Rida 241.05751 SOFSOCN12A8C143F5D ARXR32B1187FB57099\n",
      "Overload Sugababes 275.93098 SOFSOCN12A8C143F5D ARXR32B1187FB57099\n",
      "Hold You Gyptian 233.09016 SOFSOCN12A8C143F5D ARXR32B1187FB57099\n",
      "The Way She Moves Zion / Akon 233.19465 SOFSOCN12A8C143F5D ARXR32B1187FB57099\n",
      "I Want Your Love Transvision Vamp 209.91955 SOFSOCN12A8C143F5D ARXR32B1187FB57099\n",
      "Corrido de Boxeo Ry Cooder 201.56036 SOFSOCN12A8C143F5D ARXR32B1187FB57099\n",
      "When I Grow Up The Pussycat Dolls 245.18485 SOFSOCN12A8C143F5D ARXR32B1187FB57099\n",
      "Yellow Coldplay 268.30322 SOFSOCN12A8C143F5D ARXR32B1187FB57099\n",
      "She Likes (Bittersweet Love) Forever The Sickest Kids 169.482 SOFSOCN12A8C143F5D ARXR32B1187FB57099\n",
      "Believe That Lil Wayne / Blaque / Mannie Fresh 255.34649 SOFSOCN12A8C143F5D ARXR32B1187FB57099\n",
      "Through The Fire And Flames (Album Version) Dragonforce 441.02485 SOFSOCN12A8C143F5D ARXR32B1187FB57099\n",
      "Lucky (Album Version) Jason Mraz & Colbie Caillat 189.6224 SOFSOCN12A8C143F5D ARXR32B1187FB57099\n",
      "Is She Weird Pixies 181.13261 SOFSOCN12A8C143F5D ARXR32B1187FB57099\n",
      "Without Me Eminem 251.55873 SOFSOCN12A8C143F5D ARXR32B1187FB57099\n",
      "Cry No More Buju Banton 232.48934 SOFSOCN12A8C143F5D ARXR32B1187FB57099\n",
      "Lotus Cage The Elephant 196.38812 SOFSOCN12A8C143F5D ARXR32B1187FB57099\n",
      "Horn Concerto No. 4 in E flat K495: II. Romance (Andante cantabile) Barry Tuckwell/Academy of St Martin-in-the-Fields/Sir Neville Marriner 277.15873 SOFSOCN12A8C143F5D ARXR32B1187FB57099\n",
      "Le Million Ste Strausz 285.36118 SOFSOCN12A8C143F5D ARXR32B1187FB57099\n",
      "Only Superstition Coldplay 228.62322 SOFSOCN12A8C143F5D ARXR32B1187FB57099\n",
      "Bedroom Suite Joe Christmas 185.7824 SOFSOCN12A8C143F5D ARXR32B1187FB57099\n",
      "A New Arrangement Bright Eyes 313.23383 SOFSOCN12A8C143F5D ARXR32B1187FB57099\n",
      "The Only Exception (Album Version) Paramore 267.65016 SOFSOCN12A8C143F5D ARXR32B1187FB57099\n",
      "Sinisten tÃÂ¤htien alla J. Karjalainen & Mustat Lasit 336.74404 SOFSOCN12A8C143F5D ARXR32B1187FB57099\n",
      "Knee 2 Philip Glass 368.40444 SOFSOCN12A8C143F5D ARXR32B1187FB57099\n",
      "SinceritÃÂ© Et Jalousie Alliance Ethnik 195.94404 SOFSOCN12A8C143F5D ARXR32B1187FB57099\n",
      "Her Voice Is Beyond Her Years Mew 167.75791 SOFSOCN12A8C143F5D ARXR32B1187FB57099\n",
      "If You Leave Me Now Ive Mendes 238.94159 SOFSOCN12A8C143F5D ARXR32B1187FB57099\n",
      "SinceritÃÂ© Et Jalousie Alliance Ethnik 195.94404 SOFSOCN12A8C143F5D ARXR32B1187FB57099\n",
      "Diamond Dave the bird and the bee 193.802 SOFSOCN12A8C143F5D ARXR32B1187FB57099\n",
      "1999 Common / Sadat X 256.20853 SOFSOCN12A8C143F5D ARXR32B1187FB57099\n",
      "King Of Pain (Live/Unplugged Version) Alanis Morissette 245.15873 SOFSOCN12A8C143F5D ARXR32B1187FB57099\n",
      "Rebirthing (Album Version) Skillet 233.32526 SOFSOCN12A8C143F5D ARXR32B1187FB57099\n",
      "Beauty and the Beast James Galway;Julian Lee 218.67057 SOFSOCN12A8C143F5D ARXR32B1187FB57099\n",
      "Dressed For Friend Requests (Album Version) Drop Dead_ Gorgeous 156.70812 SOFSOCN12A8C143F5D ARXR32B1187FB57099\n",
      "You're The One Dwight Yoakam 239.3073 SOFSOCN12A8C143F5D ARXR32B1187FB57099\n",
      "Tuesday's Child Trouble 205.11302 SOFSOCN12A8C143F5D ARXR32B1187FB57099\n",
      "All The Right Moves OneRepublic 237.97506 SOFSOCN12A8C143F5D ARXR32B1187FB57099\n",
      "Wicked Switchblade Symphony 259.5522 SOFSOCN12A8C143F5D ARXR32B1187FB57099\n",
      "My Distressor 40Khz ReRub Mix Sharooz 234.05669 SOFSOCN12A8C143F5D ARXR32B1187FB57099\n",
      "Six Days At The Bottom Of The Ocean Explosions In The Sky 522.9971 SOFSOCN12A8C143F5D ARXR32B1187FB57099\n",
      "Little Bird Emmylou Harris 194.63791 SOFSOCN12A8C143F5D ARXR32B1187FB57099\n",
      "The Horizon Has Been Defeated Jack Johnson 153.67791 SOFSOCN12A8C143F5D ARXR32B1187FB57099\n",
      "Everything In Its Right Place Radiohead 249.93914 SOFSOCN12A8C143F5D ARXR32B1187FB57099\n",
      "Heretics Andrew Bird 215.87546 SOFSOCN12A8C143F5D ARXR32B1187FB57099\n",
      "Sabbra Cadabra Metallica 380.21179 SOFSOCN12A8C143F5D ARXR32B1187FB57099\n",
      "Catch You Baby (Steve Pitron & Max Sanna Radio Edit) Lonnie Gordon 181.21098 SOFSOCN12A8C143F5D ARXR32B1187FB57099\n",
      "Shattered Dropkick Murphys 167.73179 SOFSOCN12A8C143F5D ARXR32B1187FB57099\n",
      "As The Rhyme Goes On Eric B. & Rakim 240.32608 SOFSOCN12A8C143F5D ARXR32B1187FB57099\n",
      "Settle For A Slowdown Dierks Bentley 223.242 SOFSOCN12A8C143F5D ARXR32B1187FB57099\n",
      "Daniel Cowman Regina Spektor 290.14159 SOFSOCN12A8C143F5D ARXR32B1187FB57099\n",
      "Make You Sin Angelspit 241.94567 SOFSOCN12A8C143F5D ARXR32B1187FB57099\n",
      "Roc U Young Gunz / Beanie Sigel 292.44036 SOFSOCN12A8C143F5D ARXR32B1187FB57099\n",
      "Sexy Bitch DJ Dizzy 221.1522 SOFSOCN12A8C143F5D ARXR32B1187FB57099\n",
      "Sayonara-Nostalgia Base Ball Bear 255.60771 SOFSOCN12A8C143F5D ARXR32B1187FB57099\n",
      "In The Hands Of The Gods (Featuring Biz Markie) Morcheeba 101.95546 SOFSOCN12A8C143F5D ARXR32B1187FB57099\n",
      "Don't Forget To Breathe Bitter:Sweet 194.16771 SOFSOCN12A8C143F5D ARXR32B1187FB57099\n",
      "Now You're Gone Basshunter Feat. DJ Mental Theo\u0019s Bazzheadz 152.65914 SOFSOCN12A8C143F5D ARXR32B1187FB57099\n",
      "Undo BjÃÂ¶rk 348.57751 SOFSOCN12A8C143F5D ARXR32B1187FB57099\n",
      "G4L Rihanna 239.75138 SOFSOCN12A8C143F5D ARXR32B1187FB57099\n",
      "Hello Evanescence 220.3424 SOFSOCN12A8C143F5D ARXR32B1187FB57099\n",
      "Tamale Mr. Vegas 240.69179 SOFSOCN12A8C143F5D ARXR32B1187FB57099\n",
      "Another Place Mischa Daniels 419.81342 SOFSOCN12A8C143F5D ARXR32B1187FB57099\n",
      "Straight To Hell The Menzingers 276.00934 SOFSOCN12A8C143F5D ARXR32B1187FB57099\n",
      "Cry Me A River Justin Timberlake 288.93995 SOFSOCN12A8C143F5D ARXR32B1187FB57099\n",
      "Un Camino Hasta Vos Vilma Palma e Vampiros 338.18077 SOFSOCN12A8C143F5D ARXR32B1187FB57099\n",
      "Sura (2008 Digital Remaster) CCCP - Fedeli Alla Linea 329.66485 SOFSOCN12A8C143F5D ARXR32B1187FB57099\n",
      "Pursuit Of Happiness (nightmare) Kid Cudi / MGMT / Ratatat 295.67955 SOFSOCN12A8C143F5D ARXR32B1187FB57099\n",
      "Forever Drake / Kanye West / Lil Wayne / Eminem 357.66812 SOFSOCN12A8C143F5D ARXR32B1187FB57099\n",
      "Homesick [Acoustic] A Day To Remember 247.64036 SOFSOCN12A8C143F5D ARXR32B1187FB57099\n",
      "Dead And Gone [feat. Justin Timberlake] (Explicit Album Version) T.I. 299.75465 SOFSOCN12A8C143F5D ARXR32B1187FB57099\n",
      "It'll Be a Long Time (Album Version) The Offspring 163.3171 SOFSOCN12A8C143F5D ARXR32B1187FB57099\n",
      "Esta Es Para Hacerte FÃÂ©liz Jorge Gonzalez 272.14322 SOFSOCN12A8C143F5D ARXR32B1187FB57099\n",
      "Spin Spin Sugar Sneaker Pimps 260.91057 SOFSOCN12A8C143F5D ARXR32B1187FB57099\n",
      "This War Is Ours (The Guillotine II) Escape The Fate 266.73587 SOFSOCN12A8C143F5D ARXR32B1187FB57099\n",
      "La Vida Es Un Ratico Juanes 243.27791 SOFSOCN12A8C143F5D ARXR32B1187FB57099\n",
      "Never Mind The Replacements 170.57914 SOFSOCN12A8C143F5D ARXR32B1187FB57099\n",
      "Possession Sarah McLachlan 278.90893 SOFSOCN12A8C143F5D ARXR32B1187FB57099\n",
      "Don't Start Me Talkin' Sonny Boy Williamson 152.24118 SOFSOCN12A8C143F5D ARXR32B1187FB57099\n",
      "Back To Life (However Do You Want Me) (2003 Digital Remaster) (Feat. Caron Wheeler) Soul II Soul Featuring Caron Wheeler 225.2273 SOFSOCN12A8C143F5D ARXR32B1187FB57099\n",
      "Dog Days Are Over (Radio Edit) Florence + The Machine 219.66322 SOFSOCN12A8C143F5D ARXR32B1187FB57099\n",
      "Heresy  (LP Version) Pantera 286.69342 SOFSOCN12A8C143F5D ARXR32B1187FB57099\n",
      "Remedy Cold 177.76281 SOFSOCN12A8C143F5D ARXR32B1187FB57099\n",
      "Frozen Angel Norther 246.54322 SOFSOCN12A8C143F5D ARXR32B1187FB57099\n",
      "The Pretender Foo Fighters 271.38567 SOFSOCN12A8C143F5D ARXR32B1187FB57099\n",
      "Besos De Ceniza Timbiriche 202.60526 SOFSOCN12A8C143F5D ARXR32B1187FB57099\n",
      "Rose A Perfect Circle 206.05342 SOFSOCN12A8C143F5D ARXR32B1187FB57099\n",
      "The Haunting Anberlin 348.682 SOFSOCN12A8C143F5D ARXR32B1187FB57099\n",
      "Anything You Say (Unreleased Version) Deas Vail 237.68771 SOFSOCN12A8C143F5D ARXR32B1187FB57099\n"
     ]
    }
   ],
   "source": [
    "for index, row in df_artists_songs.iterrows():\n",
    "\n",
    "    # get songid and artistid from song and artist tables\n",
    "    cur.execute(song_select, (row.song, row.artist, row.length))\n",
    "    results = cur.fetchone()\n",
    "    \n",
    "    if results:\n",
    "        songid, artistid = results\n",
    "    else:\n",
    "        songid, artistid = None, None\n",
    "\n",
    "    # insert songplay record\n",
    "    #songplay_data = (row.length,\n",
    "    #                 row.userId,\n",
    "    #                 row.level,\n",
    "    #                 songid,\n",
    "    \n",
    "    #                 artistid,\n",
    "    #                 row.sessionId,\n",
    "    #                 row.location,\n",
    "    #                 row.userAgent)\n",
    "    \n",
    "    #cur.execute(songplay_table_insert, songplay_data)\n",
    "    #conn.commit()\n",
    "    print(row.song, row.artist, row.length, songid, artistid)"
   ]
  },
  {
   "cell_type": "markdown",
   "metadata": {
    "editable": true
   },
   "source": [
    "Run `test.ipynb` to see if you've successfully added records to this table."
   ]
  },
  {
   "cell_type": "markdown",
   "metadata": {
    "editable": true
   },
   "source": [
    "# Close Connection to Sparkify Database"
   ]
  },
  {
   "cell_type": "code",
   "execution_count": 23,
   "metadata": {
    "editable": true
   },
   "outputs": [],
   "source": [
    "conn.close()"
   ]
  },
  {
   "cell_type": "markdown",
   "metadata": {
    "editable": true
   },
   "source": [
    "# Implement `etl.py`\n",
    "Use what you've completed in this notebook to implement `etl.py`."
   ]
  }
 ],
 "metadata": {
  "kernelspec": {
   "display_name": "Python 3",
   "language": "python",
   "name": "python3"
  },
  "language_info": {
   "codemirror_mode": {
    "name": "ipython",
    "version": 3
   },
   "file_extension": ".py",
   "mimetype": "text/x-python",
   "name": "python",
   "nbconvert_exporter": "python",
   "pygments_lexer": "ipython3",
   "version": "3.6.3"
  }
 },
 "nbformat": 4,
 "nbformat_minor": 4
}
